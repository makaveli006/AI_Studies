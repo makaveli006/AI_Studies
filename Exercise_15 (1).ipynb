{
 "cells": [
  {
   "cell_type": "code",
   "execution_count": 1,
   "id": "62af418d",
   "metadata": {},
   "outputs": [],
   "source": [
    "#!pip install tensorflow"
   ]
  },
  {
   "cell_type": "code",
   "execution_count": 2,
   "id": "001fa5a4",
   "metadata": {},
   "outputs": [],
   "source": [
    "from numpy import loadtxt\n",
    "from tensorflow.keras.models import Sequential\n",
    "from tensorflow.keras.layers import Dense\n",
    "import pandas as pd"
   ]
  },
  {
   "cell_type": "code",
   "execution_count": 3,
   "id": "f21c902e",
   "metadata": {},
   "outputs": [],
   "source": [
    "dataset=pd.read_csv('loan-train.csv')"
   ]
  },
  {
   "cell_type": "code",
   "execution_count": 4,
   "id": "10506de5",
   "metadata": {},
   "outputs": [
    {
     "data": {
      "text/html": [
       "<div>\n",
       "<style scoped>\n",
       "    .dataframe tbody tr th:only-of-type {\n",
       "        vertical-align: middle;\n",
       "    }\n",
       "\n",
       "    .dataframe tbody tr th {\n",
       "        vertical-align: top;\n",
       "    }\n",
       "\n",
       "    .dataframe thead th {\n",
       "        text-align: right;\n",
       "    }\n",
       "</style>\n",
       "<table border=\"1\" class=\"dataframe\">\n",
       "  <thead>\n",
       "    <tr style=\"text-align: right;\">\n",
       "      <th></th>\n",
       "      <th>Loan_ID</th>\n",
       "      <th>Gender</th>\n",
       "      <th>Married</th>\n",
       "      <th>Dependents</th>\n",
       "      <th>Education</th>\n",
       "      <th>Self_Employed</th>\n",
       "      <th>ApplicantIncome</th>\n",
       "      <th>CoapplicantIncome</th>\n",
       "      <th>LoanAmount</th>\n",
       "      <th>Loan_Amount_Term</th>\n",
       "      <th>Credit_History</th>\n",
       "      <th>Property_Area</th>\n",
       "      <th>Loan_Status</th>\n",
       "    </tr>\n",
       "  </thead>\n",
       "  <tbody>\n",
       "    <tr>\n",
       "      <th>0</th>\n",
       "      <td>LP001002</td>\n",
       "      <td>Male</td>\n",
       "      <td>No</td>\n",
       "      <td>0</td>\n",
       "      <td>Graduate</td>\n",
       "      <td>No</td>\n",
       "      <td>5849</td>\n",
       "      <td>0.0</td>\n",
       "      <td>NaN</td>\n",
       "      <td>360.0</td>\n",
       "      <td>1.0</td>\n",
       "      <td>Urban</td>\n",
       "      <td>Y</td>\n",
       "    </tr>\n",
       "    <tr>\n",
       "      <th>1</th>\n",
       "      <td>LP001003</td>\n",
       "      <td>Male</td>\n",
       "      <td>Yes</td>\n",
       "      <td>1</td>\n",
       "      <td>Graduate</td>\n",
       "      <td>No</td>\n",
       "      <td>4583</td>\n",
       "      <td>1508.0</td>\n",
       "      <td>128.0</td>\n",
       "      <td>360.0</td>\n",
       "      <td>1.0</td>\n",
       "      <td>Rural</td>\n",
       "      <td>N</td>\n",
       "    </tr>\n",
       "    <tr>\n",
       "      <th>2</th>\n",
       "      <td>LP001005</td>\n",
       "      <td>Male</td>\n",
       "      <td>Yes</td>\n",
       "      <td>0</td>\n",
       "      <td>Graduate</td>\n",
       "      <td>Yes</td>\n",
       "      <td>3000</td>\n",
       "      <td>0.0</td>\n",
       "      <td>66.0</td>\n",
       "      <td>360.0</td>\n",
       "      <td>1.0</td>\n",
       "      <td>Urban</td>\n",
       "      <td>Y</td>\n",
       "    </tr>\n",
       "    <tr>\n",
       "      <th>3</th>\n",
       "      <td>LP001006</td>\n",
       "      <td>Male</td>\n",
       "      <td>Yes</td>\n",
       "      <td>0</td>\n",
       "      <td>Not Graduate</td>\n",
       "      <td>No</td>\n",
       "      <td>2583</td>\n",
       "      <td>2358.0</td>\n",
       "      <td>120.0</td>\n",
       "      <td>360.0</td>\n",
       "      <td>1.0</td>\n",
       "      <td>Urban</td>\n",
       "      <td>Y</td>\n",
       "    </tr>\n",
       "    <tr>\n",
       "      <th>4</th>\n",
       "      <td>LP001008</td>\n",
       "      <td>Male</td>\n",
       "      <td>No</td>\n",
       "      <td>0</td>\n",
       "      <td>Graduate</td>\n",
       "      <td>No</td>\n",
       "      <td>6000</td>\n",
       "      <td>0.0</td>\n",
       "      <td>141.0</td>\n",
       "      <td>360.0</td>\n",
       "      <td>1.0</td>\n",
       "      <td>Urban</td>\n",
       "      <td>Y</td>\n",
       "    </tr>\n",
       "    <tr>\n",
       "      <th>...</th>\n",
       "      <td>...</td>\n",
       "      <td>...</td>\n",
       "      <td>...</td>\n",
       "      <td>...</td>\n",
       "      <td>...</td>\n",
       "      <td>...</td>\n",
       "      <td>...</td>\n",
       "      <td>...</td>\n",
       "      <td>...</td>\n",
       "      <td>...</td>\n",
       "      <td>...</td>\n",
       "      <td>...</td>\n",
       "      <td>...</td>\n",
       "    </tr>\n",
       "    <tr>\n",
       "      <th>609</th>\n",
       "      <td>LP002978</td>\n",
       "      <td>Female</td>\n",
       "      <td>No</td>\n",
       "      <td>0</td>\n",
       "      <td>Graduate</td>\n",
       "      <td>No</td>\n",
       "      <td>2900</td>\n",
       "      <td>0.0</td>\n",
       "      <td>71.0</td>\n",
       "      <td>360.0</td>\n",
       "      <td>1.0</td>\n",
       "      <td>Rural</td>\n",
       "      <td>Y</td>\n",
       "    </tr>\n",
       "    <tr>\n",
       "      <th>610</th>\n",
       "      <td>LP002979</td>\n",
       "      <td>Male</td>\n",
       "      <td>Yes</td>\n",
       "      <td>3+</td>\n",
       "      <td>Graduate</td>\n",
       "      <td>No</td>\n",
       "      <td>4106</td>\n",
       "      <td>0.0</td>\n",
       "      <td>40.0</td>\n",
       "      <td>180.0</td>\n",
       "      <td>1.0</td>\n",
       "      <td>Rural</td>\n",
       "      <td>Y</td>\n",
       "    </tr>\n",
       "    <tr>\n",
       "      <th>611</th>\n",
       "      <td>LP002983</td>\n",
       "      <td>Male</td>\n",
       "      <td>Yes</td>\n",
       "      <td>1</td>\n",
       "      <td>Graduate</td>\n",
       "      <td>No</td>\n",
       "      <td>8072</td>\n",
       "      <td>240.0</td>\n",
       "      <td>253.0</td>\n",
       "      <td>360.0</td>\n",
       "      <td>1.0</td>\n",
       "      <td>Urban</td>\n",
       "      <td>Y</td>\n",
       "    </tr>\n",
       "    <tr>\n",
       "      <th>612</th>\n",
       "      <td>LP002984</td>\n",
       "      <td>Male</td>\n",
       "      <td>Yes</td>\n",
       "      <td>2</td>\n",
       "      <td>Graduate</td>\n",
       "      <td>No</td>\n",
       "      <td>7583</td>\n",
       "      <td>0.0</td>\n",
       "      <td>187.0</td>\n",
       "      <td>360.0</td>\n",
       "      <td>1.0</td>\n",
       "      <td>Urban</td>\n",
       "      <td>Y</td>\n",
       "    </tr>\n",
       "    <tr>\n",
       "      <th>613</th>\n",
       "      <td>LP002990</td>\n",
       "      <td>Female</td>\n",
       "      <td>No</td>\n",
       "      <td>0</td>\n",
       "      <td>Graduate</td>\n",
       "      <td>Yes</td>\n",
       "      <td>4583</td>\n",
       "      <td>0.0</td>\n",
       "      <td>133.0</td>\n",
       "      <td>360.0</td>\n",
       "      <td>0.0</td>\n",
       "      <td>Semiurban</td>\n",
       "      <td>N</td>\n",
       "    </tr>\n",
       "  </tbody>\n",
       "</table>\n",
       "<p>614 rows × 13 columns</p>\n",
       "</div>"
      ],
      "text/plain": [
       "      Loan_ID  Gender Married Dependents     Education Self_Employed  \\\n",
       "0    LP001002    Male      No          0      Graduate            No   \n",
       "1    LP001003    Male     Yes          1      Graduate            No   \n",
       "2    LP001005    Male     Yes          0      Graduate           Yes   \n",
       "3    LP001006    Male     Yes          0  Not Graduate            No   \n",
       "4    LP001008    Male      No          0      Graduate            No   \n",
       "..        ...     ...     ...        ...           ...           ...   \n",
       "609  LP002978  Female      No          0      Graduate            No   \n",
       "610  LP002979    Male     Yes         3+      Graduate            No   \n",
       "611  LP002983    Male     Yes          1      Graduate            No   \n",
       "612  LP002984    Male     Yes          2      Graduate            No   \n",
       "613  LP002990  Female      No          0      Graduate           Yes   \n",
       "\n",
       "     ApplicantIncome  CoapplicantIncome  LoanAmount  Loan_Amount_Term  \\\n",
       "0               5849                0.0         NaN             360.0   \n",
       "1               4583             1508.0       128.0             360.0   \n",
       "2               3000                0.0        66.0             360.0   \n",
       "3               2583             2358.0       120.0             360.0   \n",
       "4               6000                0.0       141.0             360.0   \n",
       "..               ...                ...         ...               ...   \n",
       "609             2900                0.0        71.0             360.0   \n",
       "610             4106                0.0        40.0             180.0   \n",
       "611             8072              240.0       253.0             360.0   \n",
       "612             7583                0.0       187.0             360.0   \n",
       "613             4583                0.0       133.0             360.0   \n",
       "\n",
       "     Credit_History Property_Area Loan_Status  \n",
       "0               1.0         Urban           Y  \n",
       "1               1.0         Rural           N  \n",
       "2               1.0         Urban           Y  \n",
       "3               1.0         Urban           Y  \n",
       "4               1.0         Urban           Y  \n",
       "..              ...           ...         ...  \n",
       "609             1.0         Rural           Y  \n",
       "610             1.0         Rural           Y  \n",
       "611             1.0         Urban           Y  \n",
       "612             1.0         Urban           Y  \n",
       "613             0.0     Semiurban           N  \n",
       "\n",
       "[614 rows x 13 columns]"
      ]
     },
     "execution_count": 4,
     "metadata": {},
     "output_type": "execute_result"
    }
   ],
   "source": [
    "dataset"
   ]
  },
  {
   "cell_type": "code",
   "execution_count": 5,
   "id": "2aea1a5a",
   "metadata": {},
   "outputs": [
    {
     "data": {
      "text/plain": [
       "Index(['Loan_ID', 'Gender', 'Married', 'Dependents', 'Education',\n",
       "       'Self_Employed', 'ApplicantIncome', 'CoapplicantIncome', 'LoanAmount',\n",
       "       'Loan_Amount_Term', 'Credit_History', 'Property_Area', 'Loan_Status'],\n",
       "      dtype='object')"
      ]
     },
     "execution_count": 5,
     "metadata": {},
     "output_type": "execute_result"
    }
   ],
   "source": [
    "dataset.columns"
   ]
  },
  {
   "cell_type": "code",
   "execution_count": 6,
   "id": "99c12ce0",
   "metadata": {},
   "outputs": [],
   "source": [
    "ds=dataset.drop(['Loan_ID','Dependents'],axis=1)"
   ]
  },
  {
   "cell_type": "code",
   "execution_count": 7,
   "id": "d7b79d89",
   "metadata": {},
   "outputs": [
    {
     "data": {
      "text/plain": [
       "array(['Male', 'Female', nan], dtype=object)"
      ]
     },
     "execution_count": 7,
     "metadata": {},
     "output_type": "execute_result"
    }
   ],
   "source": [
    "ds['Gender'].unique()"
   ]
  },
  {
   "cell_type": "code",
   "execution_count": 8,
   "id": "7560857a",
   "metadata": {},
   "outputs": [],
   "source": [
    "cat = {\"Male\":1,'Female':2,'nan':3}\n",
    "ds['Gender'] = ds['Gender'].map(cat)"
   ]
  },
  {
   "cell_type": "code",
   "execution_count": null,
   "id": "5a00a8b1",
   "metadata": {
    "scrolled": true
   },
   "outputs": [],
   "source": []
  },
  {
   "cell_type": "code",
   "execution_count": 9,
   "id": "9305af81",
   "metadata": {},
   "outputs": [
    {
     "data": {
      "text/plain": [
       "array(['No', 'Yes', nan], dtype=object)"
      ]
     },
     "execution_count": 9,
     "metadata": {},
     "output_type": "execute_result"
    }
   ],
   "source": [
    "ds['Married'].unique()"
   ]
  },
  {
   "cell_type": "code",
   "execution_count": 10,
   "id": "7d1d05e1",
   "metadata": {},
   "outputs": [],
   "source": [
    "cat = {\"No\":1,'Yes':2,'nan':0}\n",
    "ds['Married'] = ds['Married'].map(cat)"
   ]
  },
  {
   "cell_type": "code",
   "execution_count": 11,
   "id": "a0e41252",
   "metadata": {},
   "outputs": [
    {
     "data": {
      "text/plain": [
       "array(['Graduate', 'Not Graduate'], dtype=object)"
      ]
     },
     "execution_count": 11,
     "metadata": {},
     "output_type": "execute_result"
    }
   ],
   "source": [
    "ds['Education'].unique()"
   ]
  },
  {
   "cell_type": "code",
   "execution_count": 12,
   "id": "82bb4d4a",
   "metadata": {},
   "outputs": [
    {
     "data": {
      "text/plain": [
       "array(['No', 'Yes', nan], dtype=object)"
      ]
     },
     "execution_count": 12,
     "metadata": {},
     "output_type": "execute_result"
    }
   ],
   "source": [
    "ds['Self_Employed'].unique()"
   ]
  },
  {
   "cell_type": "code",
   "execution_count": 13,
   "id": "37d5c54e",
   "metadata": {},
   "outputs": [],
   "source": [
    "cat = {\"Graduate\":1,'Not Graduate':2}\n",
    "ds['Education'] = ds['Education'].map(cat)"
   ]
  },
  {
   "cell_type": "code",
   "execution_count": 14,
   "id": "da06c3e8",
   "metadata": {},
   "outputs": [],
   "source": [
    "cat = {\"No\":1,'Yes':2,'nan':0}\n",
    "ds['Self_Employed'] = ds['Self_Employed'].map(cat)"
   ]
  },
  {
   "cell_type": "code",
   "execution_count": 15,
   "id": "84233510",
   "metadata": {},
   "outputs": [
    {
     "data": {
      "text/plain": [
       "array(['Urban', 'Rural', 'Semiurban'], dtype=object)"
      ]
     },
     "execution_count": 15,
     "metadata": {},
     "output_type": "execute_result"
    }
   ],
   "source": [
    "ds['Property_Area'].unique()"
   ]
  },
  {
   "cell_type": "code",
   "execution_count": 16,
   "id": "42e283c0",
   "metadata": {},
   "outputs": [],
   "source": [
    "cat = {\"Urban\":1,'Rural':2,'Semiurban':0}\n",
    "ds['Property_Area'] = ds['Property_Area'].map(cat)"
   ]
  },
  {
   "cell_type": "code",
   "execution_count": 17,
   "id": "d4b522b6",
   "metadata": {},
   "outputs": [
    {
     "data": {
      "text/plain": [
       "Gender               13\n",
       "Married               3\n",
       "Education             0\n",
       "Self_Employed        32\n",
       "ApplicantIncome       0\n",
       "CoapplicantIncome     0\n",
       "LoanAmount           22\n",
       "Loan_Amount_Term     14\n",
       "Credit_History       50\n",
       "Property_Area         0\n",
       "Loan_Status           0\n",
       "dtype: int64"
      ]
     },
     "execution_count": 17,
     "metadata": {},
     "output_type": "execute_result"
    }
   ],
   "source": [
    "ds.isnull().sum()"
   ]
  },
  {
   "cell_type": "code",
   "execution_count": 18,
   "id": "e665f761",
   "metadata": {},
   "outputs": [],
   "source": [
    "ds['Gender'].fillna(ds['Gender'].mean(),inplace=True)\n",
    "ds['Married'].fillna(ds['Married'].mean(),inplace=True)\n",
    "ds['Self_Employed'].fillna(ds['Self_Employed'].mean(),inplace=True)\n",
    "ds['LoanAmount'].fillna(ds['LoanAmount'].mean(),inplace=True)\n",
    "ds['Loan_Amount_Term'].fillna(ds['Loan_Amount_Term'].mean(),inplace=True)\n",
    "ds['Credit_History'].fillna(ds['Credit_History'].mean(),inplace=True)"
   ]
  },
  {
   "cell_type": "code",
   "execution_count": 19,
   "id": "d98d40fc",
   "metadata": {},
   "outputs": [
    {
     "data": {
      "text/plain": [
       "Gender               0\n",
       "Married              0\n",
       "Education            0\n",
       "Self_Employed        0\n",
       "ApplicantIncome      0\n",
       "CoapplicantIncome    0\n",
       "LoanAmount           0\n",
       "Loan_Amount_Term     0\n",
       "Credit_History       0\n",
       "Property_Area        0\n",
       "Loan_Status          0\n",
       "dtype: int64"
      ]
     },
     "execution_count": 19,
     "metadata": {},
     "output_type": "execute_result"
    }
   ],
   "source": [
    "ds.isnull().sum()"
   ]
  },
  {
   "cell_type": "code",
   "execution_count": 20,
   "id": "49dc3db4",
   "metadata": {},
   "outputs": [
    {
     "data": {
      "text/plain": [
       "array(['Y', 'N'], dtype=object)"
      ]
     },
     "execution_count": 20,
     "metadata": {},
     "output_type": "execute_result"
    }
   ],
   "source": [
    "ds['Loan_Status'].unique()"
   ]
  },
  {
   "cell_type": "code",
   "execution_count": 21,
   "id": "3c92ad69",
   "metadata": {},
   "outputs": [],
   "source": [
    "cat = {\"Y\":1,'N':0}\n",
    "ds['Loan_Status'] = ds['Loan_Status'].map(cat)"
   ]
  },
  {
   "cell_type": "code",
   "execution_count": 22,
   "id": "0e69d21d",
   "metadata": {},
   "outputs": [],
   "source": [
    "x = ds.iloc[:,0:-1].values\n",
    "y = ds.iloc[:,-1].values"
   ]
  },
  {
   "cell_type": "code",
   "execution_count": 23,
   "id": "9f55a3d1",
   "metadata": {
    "scrolled": true
   },
   "outputs": [
    {
     "data": {
      "text/plain": [
       "array([[  1.,   1.,   1., ..., 360.,   1.,   1.],\n",
       "       [  1.,   2.,   1., ..., 360.,   1.,   2.],\n",
       "       [  1.,   2.,   1., ..., 360.,   1.,   1.],\n",
       "       ...,\n",
       "       [  1.,   2.,   1., ..., 360.,   1.,   1.],\n",
       "       [  1.,   2.,   1., ..., 360.,   1.,   1.],\n",
       "       [  2.,   1.,   1., ..., 360.,   0.,   0.]])"
      ]
     },
     "execution_count": 23,
     "metadata": {},
     "output_type": "execute_result"
    }
   ],
   "source": [
    "x"
   ]
  },
  {
   "cell_type": "code",
   "execution_count": null,
   "id": "f4c8e05b",
   "metadata": {},
   "outputs": [],
   "source": []
  },
  {
   "cell_type": "code",
   "execution_count": 24,
   "id": "1942da25",
   "metadata": {},
   "outputs": [
    {
     "data": {
      "text/plain": [
       "array([1, 0, 1, 1, 1, 1, 1, 0, 1, 0, 1, 1, 1, 0, 1, 1, 1, 0, 0, 1, 0, 1,\n",
       "       0, 0, 0, 1, 1, 1, 0, 1, 0, 0, 0, 1, 0, 1, 0, 1, 1, 1, 0, 1, 1, 1,\n",
       "       1, 1, 1, 1, 0, 1, 1, 1, 0, 0, 0, 1, 1, 0, 1, 1, 1, 1, 0, 0, 0, 0,\n",
       "       0, 1, 1, 0, 1, 1, 1, 0, 1, 0, 0, 0, 0, 1, 1, 1, 0, 0, 1, 1, 1, 1,\n",
       "       1, 1, 1, 1, 1, 1, 1, 0, 1, 1, 1, 1, 1, 1, 1, 1, 1, 1, 1, 0, 0, 1,\n",
       "       1, 1, 0, 1, 1, 1, 1, 1, 0, 1, 1, 1, 1, 1, 1, 1, 1, 1, 0, 0, 1, 1,\n",
       "       1, 1, 1, 0, 0, 1, 0, 0, 0, 1, 1, 1, 1, 1, 1, 1, 0, 1, 0, 1, 0, 0,\n",
       "       1, 1, 1, 1, 1, 1, 1, 0, 0, 1, 1, 1, 0, 1, 0, 1, 1, 1, 0, 1, 0, 1,\n",
       "       1, 0, 1, 0, 0, 0, 1, 0, 1, 1, 0, 1, 1, 1, 1, 0, 0, 1, 1, 0, 1, 1,\n",
       "       1, 0, 1, 1, 0, 1, 1, 1, 1, 1, 1, 0, 0, 0, 1, 1, 1, 1, 0, 1, 0, 1,\n",
       "       0, 1, 1, 1, 1, 0, 0, 1, 1, 1, 1, 1, 1, 1, 1, 1, 0, 1, 1, 1, 1, 0,\n",
       "       1, 1, 1, 0, 1, 1, 1, 1, 0, 0, 1, 1, 0, 1, 0, 0, 0, 0, 1, 1, 0, 1,\n",
       "       1, 1, 1, 1, 0, 1, 1, 1, 1, 1, 1, 1, 1, 1, 1, 1, 0, 1, 1, 1, 0, 1,\n",
       "       0, 1, 1, 1, 1, 0, 1, 0, 1, 1, 1, 1, 0, 0, 0, 1, 1, 1, 1, 0, 1, 0,\n",
       "       0, 1, 1, 1, 1, 1, 0, 1, 1, 1, 1, 0, 1, 1, 1, 1, 1, 0, 1, 1, 0, 1,\n",
       "       1, 1, 1, 1, 1, 1, 1, 1, 0, 1, 0, 0, 1, 1, 1, 1, 0, 1, 1, 1, 1, 0,\n",
       "       1, 0, 1, 1, 1, 0, 0, 1, 0, 1, 1, 1, 1, 0, 0, 0, 1, 0, 1, 1, 1, 0,\n",
       "       1, 1, 1, 1, 0, 1, 1, 1, 1, 1, 0, 1, 1, 0, 1, 1, 1, 1, 1, 1, 1, 1,\n",
       "       0, 1, 1, 0, 0, 0, 1, 1, 0, 1, 1, 1, 0, 0, 0, 1, 0, 1, 0, 1, 0, 0,\n",
       "       1, 1, 1, 0, 1, 0, 1, 1, 0, 1, 1, 1, 1, 0, 1, 1, 1, 1, 1, 1, 0, 1,\n",
       "       1, 1, 1, 1, 1, 1, 1, 0, 0, 0, 0, 1, 0, 1, 1, 1, 1, 0, 1, 0, 1, 1,\n",
       "       1, 1, 0, 1, 0, 1, 1, 0, 1, 0, 1, 1, 1, 1, 1, 0, 1, 0, 1, 1, 1, 1,\n",
       "       1, 1, 0, 0, 1, 0, 1, 1, 1, 1, 0, 1, 1, 1, 1, 0, 1, 1, 1, 0, 1, 1,\n",
       "       1, 0, 1, 1, 0, 1, 1, 0, 0, 1, 1, 0, 0, 0, 1, 1, 1, 1, 0, 1, 1, 1,\n",
       "       1, 1, 1, 1, 0, 0, 1, 1, 1, 1, 0, 1, 1, 0, 1, 1, 1, 1, 0, 1, 0, 1,\n",
       "       0, 1, 1, 0, 0, 1, 1, 1, 1, 1, 1, 1, 1, 1, 0, 1, 1, 0, 0, 0, 1, 0,\n",
       "       1, 0, 0, 1, 0, 1, 1, 1, 1, 0, 1, 0, 0, 0, 1, 1, 1, 0, 1, 0, 1, 1,\n",
       "       1, 1, 0, 0, 1, 1, 0, 1, 1, 1, 1, 0, 1, 1, 1, 1, 1, 1, 1, 0],\n",
       "      dtype=int64)"
      ]
     },
     "execution_count": 24,
     "metadata": {},
     "output_type": "execute_result"
    }
   ],
   "source": [
    "y"
   ]
  },
  {
   "cell_type": "code",
   "execution_count": 25,
   "id": "a797eede",
   "metadata": {},
   "outputs": [
    {
     "data": {
      "text/plain": [
       "((614, 10), (614,))"
      ]
     },
     "execution_count": 25,
     "metadata": {},
     "output_type": "execute_result"
    }
   ],
   "source": [
    "x.shape, y.shape"
   ]
  },
  {
   "cell_type": "code",
   "execution_count": 26,
   "id": "23123853",
   "metadata": {},
   "outputs": [],
   "source": [
    "model = Sequential()\n",
    "model.add(Dense(12, input_shape=(10,), activation='relu'))\n",
    "model.add(Dense(8, activation='relu'))\n",
    "model.add(Dense(1, activation='sigmoid'))"
   ]
  },
  {
   "cell_type": "code",
   "execution_count": 27,
   "id": "8ea28013",
   "metadata": {},
   "outputs": [],
   "source": [
    "model.compile(loss='binary_crossentropy', optimizer='adam', metrics=['accuracy'])\n"
   ]
  },
  {
   "cell_type": "code",
   "execution_count": 28,
   "id": "a7469fec",
   "metadata": {},
   "outputs": [
    {
     "data": {
      "text/plain": [
       "<keras.engine.sequential.Sequential at 0x2491960da60>"
      ]
     },
     "execution_count": 28,
     "metadata": {},
     "output_type": "execute_result"
    }
   ],
   "source": [
    "model"
   ]
  },
  {
   "cell_type": "code",
   "execution_count": 29,
   "id": "95b6b840",
   "metadata": {
    "scrolled": true
   },
   "outputs": [
    {
     "name": "stdout",
     "output_type": "stream",
     "text": [
      "Epoch 1/300\n",
      "62/62 [==============================] - 0s 1ms/step - loss: 117.0919 - accuracy: 0.5798\n",
      "Epoch 2/300\n",
      "62/62 [==============================] - 0s 1ms/step - loss: 16.1217 - accuracy: 0.6189\n",
      "Epoch 3/300\n",
      "62/62 [==============================] - 0s 1ms/step - loss: 15.4060 - accuracy: 0.6075\n",
      "Epoch 4/300\n",
      "62/62 [==============================] - 0s 1ms/step - loss: 20.1685 - accuracy: 0.5912\n",
      "Epoch 5/300\n",
      "62/62 [==============================] - 0s 1ms/step - loss: 12.5108 - accuracy: 0.6075\n",
      "Epoch 6/300\n",
      "62/62 [==============================] - 0s 1ms/step - loss: 11.6978 - accuracy: 0.6107\n",
      "Epoch 7/300\n",
      "62/62 [==============================] - 0s 1ms/step - loss: 22.1774 - accuracy: 0.5798\n",
      "Epoch 8/300\n",
      "62/62 [==============================] - 0s 1ms/step - loss: 11.2823 - accuracy: 0.6124\n",
      "Epoch 9/300\n",
      "62/62 [==============================] - 0s 1ms/step - loss: 10.3216 - accuracy: 0.6010\n",
      "Epoch 10/300\n",
      "62/62 [==============================] - 0s 1ms/step - loss: 10.5757 - accuracy: 0.6107\n",
      "Epoch 11/300\n",
      "62/62 [==============================] - 0s 1ms/step - loss: 8.0485 - accuracy: 0.6401\n",
      "Epoch 12/300\n",
      "62/62 [==============================] - 0s 1ms/step - loss: 10.4076 - accuracy: 0.6107\n",
      "Epoch 13/300\n",
      "62/62 [==============================] - 0s 1ms/step - loss: 7.8206 - accuracy: 0.6042\n",
      "Epoch 14/300\n",
      "62/62 [==============================] - 0s 2ms/step - loss: 8.6861 - accuracy: 0.6319\n",
      "Epoch 15/300\n",
      "62/62 [==============================] - 0s 3ms/step - loss: 8.7617 - accuracy: 0.5961\n",
      "Epoch 16/300\n",
      "62/62 [==============================] - 0s 2ms/step - loss: 6.1214 - accuracy: 0.6319\n",
      "Epoch 17/300\n",
      "62/62 [==============================] - 0s 2ms/step - loss: 8.6806 - accuracy: 0.5928\n",
      "Epoch 18/300\n",
      "62/62 [==============================] - 0s 2ms/step - loss: 4.8131 - accuracy: 0.6205\n",
      "Epoch 19/300\n",
      "62/62 [==============================] - 0s 2ms/step - loss: 6.6055 - accuracy: 0.6059\n",
      "Epoch 20/300\n",
      "62/62 [==============================] - 0s 2ms/step - loss: 6.7977 - accuracy: 0.5831\n",
      "Epoch 21/300\n",
      "62/62 [==============================] - 0s 2ms/step - loss: 4.9170 - accuracy: 0.6189\n",
      "Epoch 22/300\n",
      "62/62 [==============================] - 0s 2ms/step - loss: 3.8181 - accuracy: 0.6059\n",
      "Epoch 23/300\n",
      "62/62 [==============================] - 0s 2ms/step - loss: 5.2400 - accuracy: 0.6140\n",
      "Epoch 24/300\n",
      "62/62 [==============================] - 0s 2ms/step - loss: 5.6982 - accuracy: 0.5896\n",
      "Epoch 25/300\n",
      "62/62 [==============================] - 0s 2ms/step - loss: 5.6814 - accuracy: 0.5765\n",
      "Epoch 26/300\n",
      "62/62 [==============================] - 0s 2ms/step - loss: 3.8498 - accuracy: 0.5863\n",
      "Epoch 27/300\n",
      "62/62 [==============================] - 0s 2ms/step - loss: 5.4004 - accuracy: 0.6107\n",
      "Epoch 28/300\n",
      "62/62 [==============================] - 0s 2ms/step - loss: 5.8760 - accuracy: 0.6091\n",
      "Epoch 29/300\n",
      "62/62 [==============================] - 0s 2ms/step - loss: 8.8844 - accuracy: 0.5831\n",
      "Epoch 30/300\n",
      "62/62 [==============================] - 0s 2ms/step - loss: 5.3549 - accuracy: 0.5993\n",
      "Epoch 31/300\n",
      "62/62 [==============================] - 0s 3ms/step - loss: 4.7674 - accuracy: 0.6140\n",
      "Epoch 32/300\n",
      "62/62 [==============================] - 0s 2ms/step - loss: 3.2403 - accuracy: 0.6466\n",
      "Epoch 33/300\n",
      "62/62 [==============================] - 0s 2ms/step - loss: 4.6148 - accuracy: 0.6091\n",
      "Epoch 34/300\n",
      "62/62 [==============================] - 0s 3ms/step - loss: 7.2529 - accuracy: 0.5896\n",
      "Epoch 35/300\n",
      "62/62 [==============================] - 0s 2ms/step - loss: 9.7016 - accuracy: 0.5717\n",
      "Epoch 36/300\n",
      "62/62 [==============================] - 0s 3ms/step - loss: 4.4944 - accuracy: 0.6205\n",
      "Epoch 37/300\n",
      "62/62 [==============================] - 0s 2ms/step - loss: 4.2179 - accuracy: 0.6287\n",
      "Epoch 38/300\n",
      "62/62 [==============================] - 0s 2ms/step - loss: 3.7189 - accuracy: 0.6303\n",
      "Epoch 39/300\n",
      "62/62 [==============================] - 0s 3ms/step - loss: 3.9772 - accuracy: 0.6140\n",
      "Epoch 40/300\n",
      "62/62 [==============================] - 0s 2ms/step - loss: 4.1493 - accuracy: 0.5879\n",
      "Epoch 41/300\n",
      "62/62 [==============================] - 0s 2ms/step - loss: 3.8978 - accuracy: 0.6173\n",
      "Epoch 42/300\n",
      "62/62 [==============================] - 0s 2ms/step - loss: 3.0138 - accuracy: 0.6107\n",
      "Epoch 43/300\n",
      "62/62 [==============================] - 0s 3ms/step - loss: 2.5310 - accuracy: 0.6450\n",
      "Epoch 44/300\n",
      "62/62 [==============================] - 0s 2ms/step - loss: 3.7053 - accuracy: 0.6124\n",
      "Epoch 45/300\n",
      "62/62 [==============================] - 0s 2ms/step - loss: 2.4119 - accuracy: 0.6270\n",
      "Epoch 46/300\n",
      "62/62 [==============================] - 0s 2ms/step - loss: 5.2953 - accuracy: 0.5765\n",
      "Epoch 47/300\n",
      "62/62 [==============================] - 0s 2ms/step - loss: 5.8643 - accuracy: 0.6221\n",
      "Epoch 48/300\n",
      "62/62 [==============================] - 0s 3ms/step - loss: 6.3128 - accuracy: 0.6010\n",
      "Epoch 49/300\n",
      "62/62 [==============================] - 0s 2ms/step - loss: 3.8790 - accuracy: 0.6140\n",
      "Epoch 50/300\n",
      "62/62 [==============================] - 0s 2ms/step - loss: 4.4181 - accuracy: 0.5993\n",
      "Epoch 51/300\n",
      "62/62 [==============================] - 0s 2ms/step - loss: 5.5286 - accuracy: 0.5896\n",
      "Epoch 52/300\n",
      "62/62 [==============================] - 0s 2ms/step - loss: 2.9041 - accuracy: 0.6189\n",
      "Epoch 53/300\n",
      "62/62 [==============================] - 0s 2ms/step - loss: 6.4564 - accuracy: 0.5717\n",
      "Epoch 54/300\n",
      "62/62 [==============================] - 0s 2ms/step - loss: 3.6397 - accuracy: 0.5912\n",
      "Epoch 55/300\n",
      "62/62 [==============================] - 0s 3ms/step - loss: 2.4354 - accuracy: 0.6189\n",
      "Epoch 56/300\n",
      "62/62 [==============================] - 0s 3ms/step - loss: 2.1097 - accuracy: 0.6466\n",
      "Epoch 57/300\n",
      "62/62 [==============================] - 0s 2ms/step - loss: 3.1126 - accuracy: 0.6026\n",
      "Epoch 58/300\n",
      "62/62 [==============================] - 0s 2ms/step - loss: 2.4181 - accuracy: 0.6205\n",
      "Epoch 59/300\n",
      "62/62 [==============================] - 0s 2ms/step - loss: 2.2562 - accuracy: 0.6238\n",
      "Epoch 60/300\n",
      "62/62 [==============================] - 0s 2ms/step - loss: 4.2332 - accuracy: 0.6205\n",
      "Epoch 61/300\n",
      "62/62 [==============================] - 0s 2ms/step - loss: 3.0657 - accuracy: 0.6287\n",
      "Epoch 62/300\n",
      "62/62 [==============================] - 0s 2ms/step - loss: 2.6674 - accuracy: 0.6059\n",
      "Epoch 63/300\n",
      "62/62 [==============================] - 0s 3ms/step - loss: 3.2654 - accuracy: 0.6319\n",
      "Epoch 64/300\n",
      "62/62 [==============================] - 0s 2ms/step - loss: 5.4050 - accuracy: 0.5961\n",
      "Epoch 65/300\n",
      "62/62 [==============================] - 0s 2ms/step - loss: 4.2918 - accuracy: 0.5847\n",
      "Epoch 66/300\n",
      "62/62 [==============================] - 0s 2ms/step - loss: 3.1379 - accuracy: 0.6303\n",
      "Epoch 67/300\n",
      "62/62 [==============================] - 0s 3ms/step - loss: 3.6436 - accuracy: 0.5733\n",
      "Epoch 68/300\n",
      "62/62 [==============================] - 0s 2ms/step - loss: 3.7422 - accuracy: 0.6384\n",
      "Epoch 69/300\n",
      "62/62 [==============================] - 0s 3ms/step - loss: 7.4294 - accuracy: 0.6189\n",
      "Epoch 70/300\n",
      "62/62 [==============================] - 0s 2ms/step - loss: 4.1786 - accuracy: 0.6042\n",
      "Epoch 71/300\n",
      "62/62 [==============================] - 0s 3ms/step - loss: 2.0454 - accuracy: 0.6189\n",
      "Epoch 72/300\n",
      "62/62 [==============================] - 0s 2ms/step - loss: 1.8808 - accuracy: 0.6270\n",
      "Epoch 73/300\n",
      "62/62 [==============================] - 0s 2ms/step - loss: 2.1524 - accuracy: 0.6384\n",
      "Epoch 74/300\n",
      "62/62 [==============================] - 0s 3ms/step - loss: 2.5114 - accuracy: 0.6319\n",
      "Epoch 75/300\n",
      "62/62 [==============================] - 0s 2ms/step - loss: 1.8129 - accuracy: 0.6189\n",
      "Epoch 76/300\n",
      "62/62 [==============================] - 0s 2ms/step - loss: 2.9732 - accuracy: 0.5945\n",
      "Epoch 77/300\n",
      "62/62 [==============================] - 0s 2ms/step - loss: 2.5091 - accuracy: 0.6417\n",
      "Epoch 78/300\n",
      "62/62 [==============================] - 0s 2ms/step - loss: 12.6825 - accuracy: 0.5831\n",
      "Epoch 79/300\n",
      "62/62 [==============================] - 0s 2ms/step - loss: 3.4711 - accuracy: 0.6189\n",
      "Epoch 80/300\n",
      "62/62 [==============================] - 0s 3ms/step - loss: 3.4957 - accuracy: 0.6042\n",
      "Epoch 81/300\n",
      "62/62 [==============================] - 0s 2ms/step - loss: 2.4491 - accuracy: 0.5961\n",
      "Epoch 82/300\n",
      "62/62 [==============================] - 0s 3ms/step - loss: 6.4049 - accuracy: 0.6042\n",
      "Epoch 83/300\n",
      "62/62 [==============================] - 0s 3ms/step - loss: 2.1883 - accuracy: 0.6303\n",
      "Epoch 84/300\n",
      "62/62 [==============================] - 0s 2ms/step - loss: 3.4901 - accuracy: 0.6189\n",
      "Epoch 85/300\n",
      "62/62 [==============================] - 0s 2ms/step - loss: 5.6719 - accuracy: 0.6173\n",
      "Epoch 86/300\n",
      "62/62 [==============================] - 0s 2ms/step - loss: 2.4500 - accuracy: 0.6336\n",
      "Epoch 87/300\n",
      "62/62 [==============================] - 0s 3ms/step - loss: 5.6331 - accuracy: 0.5896\n",
      "Epoch 88/300\n",
      "62/62 [==============================] - 0s 3ms/step - loss: 3.0425 - accuracy: 0.6270\n",
      "Epoch 89/300\n",
      "62/62 [==============================] - 0s 2ms/step - loss: 3.9972 - accuracy: 0.6189\n",
      "Epoch 90/300\n",
      "62/62 [==============================] - 0s 3ms/step - loss: 2.7377 - accuracy: 0.6433\n",
      "Epoch 91/300\n",
      "62/62 [==============================] - 0s 2ms/step - loss: 4.7033 - accuracy: 0.6091\n",
      "Epoch 92/300\n",
      "62/62 [==============================] - 0s 3ms/step - loss: 2.9820 - accuracy: 0.6450\n",
      "Epoch 93/300\n",
      "62/62 [==============================] - 0s 2ms/step - loss: 1.7514 - accuracy: 0.6498\n",
      "Epoch 94/300\n",
      "62/62 [==============================] - 0s 3ms/step - loss: 5.4232 - accuracy: 0.6026\n",
      "Epoch 95/300\n",
      "62/62 [==============================] - 0s 2ms/step - loss: 2.5877 - accuracy: 0.6417\n",
      "Epoch 96/300\n",
      "62/62 [==============================] - 0s 3ms/step - loss: 2.2454 - accuracy: 0.6156\n",
      "Epoch 97/300\n",
      "62/62 [==============================] - 0s 3ms/step - loss: 3.5651 - accuracy: 0.6124\n",
      "Epoch 98/300\n",
      "62/62 [==============================] - 0s 2ms/step - loss: 1.6541 - accuracy: 0.6564\n",
      "Epoch 99/300\n",
      "62/62 [==============================] - 0s 2ms/step - loss: 2.0999 - accuracy: 0.6352\n",
      "Epoch 100/300\n",
      "62/62 [==============================] - 0s 2ms/step - loss: 1.7794 - accuracy: 0.6482\n",
      "Epoch 101/300\n",
      "62/62 [==============================] - 0s 2ms/step - loss: 2.3834 - accuracy: 0.5765\n",
      "Epoch 102/300\n",
      "62/62 [==============================] - 0s 2ms/step - loss: 1.8977 - accuracy: 0.6661\n",
      "Epoch 103/300\n",
      "62/62 [==============================] - 0s 2ms/step - loss: 3.6457 - accuracy: 0.6238\n",
      "Epoch 104/300\n",
      "62/62 [==============================] - 0s 2ms/step - loss: 5.3552 - accuracy: 0.5798\n",
      "Epoch 105/300\n",
      "62/62 [==============================] - 0s 2ms/step - loss: 2.4372 - accuracy: 0.6336\n",
      "Epoch 106/300\n",
      "62/62 [==============================] - 0s 3ms/step - loss: 3.5589 - accuracy: 0.6140\n",
      "Epoch 107/300\n",
      "62/62 [==============================] - 0s 2ms/step - loss: 4.6842 - accuracy: 0.5603\n",
      "Epoch 108/300\n",
      "62/62 [==============================] - 0s 2ms/step - loss: 5.5768 - accuracy: 0.6433\n",
      "Epoch 109/300\n",
      "62/62 [==============================] - 0s 2ms/step - loss: 4.7292 - accuracy: 0.5928\n",
      "Epoch 110/300\n",
      "62/62 [==============================] - 0s 2ms/step - loss: 2.2762 - accuracy: 0.6270\n",
      "Epoch 111/300\n",
      "62/62 [==============================] - 0s 2ms/step - loss: 4.9986 - accuracy: 0.6042\n",
      "Epoch 112/300\n",
      "62/62 [==============================] - 0s 2ms/step - loss: 1.4461 - accuracy: 0.6661\n",
      "Epoch 113/300\n",
      "62/62 [==============================] - 0s 3ms/step - loss: 2.3128 - accuracy: 0.6401\n",
      "Epoch 114/300\n",
      "62/62 [==============================] - 0s 2ms/step - loss: 3.4229 - accuracy: 0.6319\n",
      "Epoch 115/300\n",
      "62/62 [==============================] - 0s 2ms/step - loss: 2.4244 - accuracy: 0.6075\n",
      "Epoch 116/300\n",
      "62/62 [==============================] - 0s 2ms/step - loss: 1.3960 - accuracy: 0.6482\n",
      "Epoch 117/300\n",
      "62/62 [==============================] - 0s 2ms/step - loss: 2.1573 - accuracy: 0.6547\n",
      "Epoch 118/300\n",
      "62/62 [==============================] - 0s 2ms/step - loss: 1.9817 - accuracy: 0.6238\n",
      "Epoch 119/300\n",
      "62/62 [==============================] - 0s 3ms/step - loss: 1.4804 - accuracy: 0.6840\n",
      "Epoch 120/300\n",
      "62/62 [==============================] - 0s 3ms/step - loss: 3.8881 - accuracy: 0.6384\n",
      "Epoch 121/300\n",
      "62/62 [==============================] - 0s 2ms/step - loss: 1.7553 - accuracy: 0.6368\n",
      "Epoch 122/300\n",
      "62/62 [==============================] - 0s 2ms/step - loss: 4.5530 - accuracy: 0.6254\n",
      "Epoch 123/300\n",
      "62/62 [==============================] - 0s 2ms/step - loss: 3.5044 - accuracy: 0.6547\n",
      "Epoch 124/300\n",
      "62/62 [==============================] - 0s 2ms/step - loss: 6.6957 - accuracy: 0.6091\n",
      "Epoch 125/300\n",
      "62/62 [==============================] - 0s 2ms/step - loss: 3.4599 - accuracy: 0.6482\n",
      "Epoch 126/300\n",
      "62/62 [==============================] - 0s 2ms/step - loss: 3.1128 - accuracy: 0.6010\n",
      "Epoch 127/300\n",
      "62/62 [==============================] - 0s 2ms/step - loss: 3.7299 - accuracy: 0.6010\n",
      "Epoch 128/300\n",
      "62/62 [==============================] - 0s 2ms/step - loss: 2.1374 - accuracy: 0.6726\n",
      "Epoch 129/300\n",
      "62/62 [==============================] - 0s 2ms/step - loss: 2.5804 - accuracy: 0.6401\n",
      "Epoch 130/300\n",
      "62/62 [==============================] - 0s 2ms/step - loss: 5.3398 - accuracy: 0.5489\n",
      "Epoch 131/300\n",
      "62/62 [==============================] - 0s 3ms/step - loss: 4.0378 - accuracy: 0.6075\n",
      "Epoch 132/300\n",
      "62/62 [==============================] - 0s 3ms/step - loss: 3.0511 - accuracy: 0.6384\n",
      "Epoch 133/300\n",
      "62/62 [==============================] - 0s 2ms/step - loss: 1.8129 - accuracy: 0.6466\n",
      "Epoch 134/300\n",
      "62/62 [==============================] - 0s 2ms/step - loss: 2.6760 - accuracy: 0.6336\n",
      "Epoch 135/300\n",
      "62/62 [==============================] - 0s 2ms/step - loss: 3.5507 - accuracy: 0.6368\n",
      "Epoch 136/300\n",
      "62/62 [==============================] - 0s 2ms/step - loss: 2.4026 - accuracy: 0.6336\n",
      "Epoch 137/300\n",
      "62/62 [==============================] - 0s 2ms/step - loss: 2.0918 - accuracy: 0.6840\n",
      "Epoch 138/300\n",
      "62/62 [==============================] - 0s 2ms/step - loss: 1.5357 - accuracy: 0.6678\n",
      "Epoch 139/300\n",
      "62/62 [==============================] - 0s 3ms/step - loss: 2.5434 - accuracy: 0.6580\n",
      "Epoch 140/300\n",
      "62/62 [==============================] - 0s 3ms/step - loss: 2.1105 - accuracy: 0.6384\n",
      "Epoch 141/300\n",
      "62/62 [==============================] - 0s 3ms/step - loss: 2.1864 - accuracy: 0.6515\n",
      "Epoch 142/300\n",
      "62/62 [==============================] - 0s 3ms/step - loss: 4.6450 - accuracy: 0.6336\n",
      "Epoch 143/300\n",
      "62/62 [==============================] - 0s 3ms/step - loss: 4.7382 - accuracy: 0.6042\n",
      "Epoch 144/300\n",
      "62/62 [==============================] - 0s 2ms/step - loss: 1.4069 - accuracy: 0.6857\n",
      "Epoch 145/300\n",
      "62/62 [==============================] - 0s 2ms/step - loss: 2.2385 - accuracy: 0.6303\n",
      "Epoch 146/300\n",
      "62/62 [==============================] - 0s 2ms/step - loss: 2.7433 - accuracy: 0.6270\n",
      "Epoch 147/300\n",
      "62/62 [==============================] - 0s 2ms/step - loss: 4.2852 - accuracy: 0.6075\n",
      "Epoch 148/300\n",
      "62/62 [==============================] - 0s 2ms/step - loss: 3.5930 - accuracy: 0.6287\n",
      "Epoch 149/300\n",
      "62/62 [==============================] - 0s 2ms/step - loss: 1.8234 - accuracy: 0.6824\n",
      "Epoch 150/300\n",
      "62/62 [==============================] - 0s 2ms/step - loss: 5.2057 - accuracy: 0.5977\n",
      "Epoch 151/300\n",
      "62/62 [==============================] - 0s 2ms/step - loss: 2.4882 - accuracy: 0.6645\n",
      "Epoch 152/300\n",
      "62/62 [==============================] - 0s 2ms/step - loss: 6.0677 - accuracy: 0.6026\n",
      "Epoch 153/300\n",
      "62/62 [==============================] - 0s 3ms/step - loss: 2.0801 - accuracy: 0.6694\n",
      "Epoch 154/300\n",
      "62/62 [==============================] - 0s 3ms/step - loss: 2.8677 - accuracy: 0.6287\n",
      "Epoch 155/300\n",
      "62/62 [==============================] - 0s 3ms/step - loss: 2.0464 - accuracy: 0.6564\n",
      "Epoch 156/300\n",
      "62/62 [==============================] - 0s 3ms/step - loss: 2.0686 - accuracy: 0.6352\n",
      "Epoch 157/300\n",
      "62/62 [==============================] - 0s 3ms/step - loss: 2.4750 - accuracy: 0.6091\n",
      "Epoch 158/300\n",
      "62/62 [==============================] - 0s 3ms/step - loss: 2.4281 - accuracy: 0.6564\n",
      "Epoch 159/300\n",
      "62/62 [==============================] - 0s 3ms/step - loss: 3.5033 - accuracy: 0.6368\n",
      "Epoch 160/300\n",
      "62/62 [==============================] - 0s 2ms/step - loss: 1.9356 - accuracy: 0.6352\n",
      "Epoch 161/300\n",
      "62/62 [==============================] - 0s 2ms/step - loss: 1.9063 - accuracy: 0.6368\n",
      "Epoch 162/300\n",
      "62/62 [==============================] - 0s 3ms/step - loss: 2.8440 - accuracy: 0.6156\n",
      "Epoch 163/300\n",
      "62/62 [==============================] - 0s 3ms/step - loss: 2.9028 - accuracy: 0.5993\n",
      "Epoch 164/300\n",
      "62/62 [==============================] - 0s 3ms/step - loss: 2.1255 - accuracy: 0.6531\n",
      "Epoch 165/300\n",
      "62/62 [==============================] - 0s 3ms/step - loss: 2.5443 - accuracy: 0.6417\n",
      "Epoch 166/300\n",
      "62/62 [==============================] - 0s 3ms/step - loss: 2.4063 - accuracy: 0.6368\n",
      "Epoch 167/300\n",
      "62/62 [==============================] - 0s 3ms/step - loss: 1.5156 - accuracy: 0.6792\n",
      "Epoch 168/300\n",
      "62/62 [==============================] - 0s 3ms/step - loss: 3.4216 - accuracy: 0.6270\n",
      "Epoch 169/300\n",
      "62/62 [==============================] - 0s 3ms/step - loss: 3.9753 - accuracy: 0.6010\n",
      "Epoch 170/300\n",
      "62/62 [==============================] - 0s 3ms/step - loss: 2.8242 - accuracy: 0.6352\n",
      "Epoch 171/300\n",
      "62/62 [==============================] - 0s 3ms/step - loss: 1.6094 - accuracy: 0.6482\n",
      "Epoch 172/300\n",
      "62/62 [==============================] - 0s 3ms/step - loss: 2.3927 - accuracy: 0.6336\n",
      "Epoch 173/300\n",
      "62/62 [==============================] - 0s 3ms/step - loss: 2.0113 - accuracy: 0.6710\n",
      "Epoch 174/300\n",
      "62/62 [==============================] - 0s 3ms/step - loss: 1.6594 - accuracy: 0.6710\n",
      "Epoch 175/300\n",
      "62/62 [==============================] - 0s 3ms/step - loss: 2.0804 - accuracy: 0.6596\n",
      "Epoch 176/300\n",
      "62/62 [==============================] - 0s 3ms/step - loss: 1.1757 - accuracy: 0.6808\n",
      "Epoch 177/300\n",
      "62/62 [==============================] - 0s 3ms/step - loss: 2.6010 - accuracy: 0.6482\n",
      "Epoch 178/300\n",
      "62/62 [==============================] - 0s 3ms/step - loss: 2.2405 - accuracy: 0.6401\n",
      "Epoch 179/300\n",
      "62/62 [==============================] - 0s 3ms/step - loss: 1.7108 - accuracy: 0.6515\n",
      "Epoch 180/300\n",
      "62/62 [==============================] - 0s 3ms/step - loss: 1.4054 - accuracy: 0.6954\n",
      "Epoch 181/300\n",
      "62/62 [==============================] - 0s 3ms/step - loss: 1.7298 - accuracy: 0.6678\n",
      "Epoch 182/300\n",
      "62/62 [==============================] - 0s 3ms/step - loss: 2.0073 - accuracy: 0.6661\n",
      "Epoch 183/300\n",
      "62/62 [==============================] - 0s 3ms/step - loss: 4.1817 - accuracy: 0.5831\n",
      "Epoch 184/300\n",
      "62/62 [==============================] - 0s 3ms/step - loss: 5.8687 - accuracy: 0.6026\n",
      "Epoch 185/300\n",
      "62/62 [==============================] - 0s 3ms/step - loss: 2.8374 - accuracy: 0.6238\n",
      "Epoch 186/300\n",
      "62/62 [==============================] - 0s 3ms/step - loss: 1.5749 - accuracy: 0.6417\n",
      "Epoch 187/300\n",
      "62/62 [==============================] - 0s 3ms/step - loss: 2.0335 - accuracy: 0.6515\n",
      "Epoch 188/300\n",
      "62/62 [==============================] - 0s 3ms/step - loss: 1.4442 - accuracy: 0.6792\n",
      "Epoch 189/300\n",
      "62/62 [==============================] - 0s 3ms/step - loss: 1.9707 - accuracy: 0.6384\n",
      "Epoch 190/300\n",
      "62/62 [==============================] - 0s 2ms/step - loss: 1.6826 - accuracy: 0.6694\n",
      "Epoch 191/300\n",
      "62/62 [==============================] - 0s 3ms/step - loss: 3.5146 - accuracy: 0.6189\n",
      "Epoch 192/300\n",
      "62/62 [==============================] - 0s 2ms/step - loss: 2.9042 - accuracy: 0.5945\n",
      "Epoch 193/300\n",
      "62/62 [==============================] - 0s 2ms/step - loss: 2.1962 - accuracy: 0.6824\n",
      "Epoch 194/300\n",
      "62/62 [==============================] - 0s 2ms/step - loss: 3.9074 - accuracy: 0.6352\n",
      "Epoch 195/300\n",
      "62/62 [==============================] - 0s 2ms/step - loss: 3.9000 - accuracy: 0.6075\n",
      "Epoch 196/300\n",
      "62/62 [==============================] - 0s 2ms/step - loss: 3.0125 - accuracy: 0.6205\n",
      "Epoch 197/300\n",
      "62/62 [==============================] - 0s 2ms/step - loss: 1.8370 - accuracy: 0.6596\n",
      "Epoch 198/300\n",
      "62/62 [==============================] - 0s 2ms/step - loss: 4.0175 - accuracy: 0.6042\n",
      "Epoch 199/300\n",
      "62/62 [==============================] - 0s 2ms/step - loss: 1.9508 - accuracy: 0.6450\n",
      "Epoch 200/300\n",
      "62/62 [==============================] - 0s 3ms/step - loss: 1.4869 - accuracy: 0.7052\n",
      "Epoch 201/300\n",
      "62/62 [==============================] - 0s 3ms/step - loss: 1.2295 - accuracy: 0.6840\n",
      "Epoch 202/300\n",
      "62/62 [==============================] - 0s 3ms/step - loss: 2.4218 - accuracy: 0.6433\n",
      "Epoch 203/300\n",
      "62/62 [==============================] - 0s 3ms/step - loss: 4.7915 - accuracy: 0.6221\n",
      "Epoch 204/300\n",
      "62/62 [==============================] - 0s 2ms/step - loss: 3.8394 - accuracy: 0.6238\n",
      "Epoch 205/300\n",
      "62/62 [==============================] - 0s 2ms/step - loss: 3.9130 - accuracy: 0.5977\n",
      "Epoch 206/300\n",
      "62/62 [==============================] - 0s 2ms/step - loss: 1.6281 - accuracy: 0.6726\n",
      "Epoch 207/300\n",
      "62/62 [==============================] - 0s 3ms/step - loss: 1.8212 - accuracy: 0.6580\n",
      "Epoch 208/300\n",
      "62/62 [==============================] - 0s 3ms/step - loss: 3.1265 - accuracy: 0.6531\n",
      "Epoch 209/300\n",
      "62/62 [==============================] - 0s 3ms/step - loss: 2.6143 - accuracy: 0.6319\n",
      "Epoch 210/300\n",
      "62/62 [==============================] - 0s 3ms/step - loss: 3.6915 - accuracy: 0.6189\n",
      "Epoch 211/300\n",
      "62/62 [==============================] - 0s 3ms/step - loss: 1.1962 - accuracy: 0.7068\n",
      "Epoch 212/300\n",
      "62/62 [==============================] - 0s 2ms/step - loss: 2.0979 - accuracy: 0.6580\n",
      "Epoch 213/300\n",
      "62/62 [==============================] - 0s 3ms/step - loss: 3.3888 - accuracy: 0.6368\n",
      "Epoch 214/300\n",
      "62/62 [==============================] - 0s 2ms/step - loss: 1.1437 - accuracy: 0.7020\n",
      "Epoch 215/300\n",
      "62/62 [==============================] - 0s 2ms/step - loss: 3.0985 - accuracy: 0.6466\n",
      "Epoch 216/300\n",
      "62/62 [==============================] - 0s 3ms/step - loss: 2.1052 - accuracy: 0.6221\n",
      "Epoch 217/300\n",
      "62/62 [==============================] - 0s 3ms/step - loss: 2.9329 - accuracy: 0.6287\n",
      "Epoch 218/300\n",
      "62/62 [==============================] - 0s 2ms/step - loss: 1.3083 - accuracy: 0.7052\n",
      "Epoch 219/300\n",
      "62/62 [==============================] - 0s 2ms/step - loss: 1.5534 - accuracy: 0.6466\n",
      "Epoch 220/300\n",
      "62/62 [==============================] - 0s 2ms/step - loss: 2.4510 - accuracy: 0.6417\n",
      "Epoch 221/300\n",
      "62/62 [==============================] - 0s 2ms/step - loss: 2.2946 - accuracy: 0.6759\n",
      "Epoch 222/300\n",
      "62/62 [==============================] - 0s 2ms/step - loss: 1.7175 - accuracy: 0.6368\n",
      "Epoch 223/300\n",
      "62/62 [==============================] - 0s 2ms/step - loss: 2.4291 - accuracy: 0.6694\n",
      "Epoch 224/300\n",
      "62/62 [==============================] - 0s 3ms/step - loss: 2.5149 - accuracy: 0.6531\n",
      "Epoch 225/300\n",
      "62/62 [==============================] - 0s 2ms/step - loss: 3.3132 - accuracy: 0.6189\n",
      "Epoch 226/300\n",
      "62/62 [==============================] - 0s 2ms/step - loss: 2.9987 - accuracy: 0.6368\n",
      "Epoch 227/300\n",
      "62/62 [==============================] - 0s 3ms/step - loss: 3.4970 - accuracy: 0.6336\n",
      "Epoch 228/300\n",
      "62/62 [==============================] - 0s 3ms/step - loss: 1.4048 - accuracy: 0.6954\n",
      "Epoch 229/300\n",
      "62/62 [==============================] - 0s 2ms/step - loss: 2.6455 - accuracy: 0.6173\n",
      "Epoch 230/300\n",
      "62/62 [==============================] - 0s 3ms/step - loss: 1.4633 - accuracy: 0.6906\n",
      "Epoch 231/300\n",
      "62/62 [==============================] - 0s 2ms/step - loss: 2.3227 - accuracy: 0.6792\n",
      "Epoch 232/300\n",
      "62/62 [==============================] - 0s 2ms/step - loss: 3.9029 - accuracy: 0.6336\n",
      "Epoch 233/300\n",
      "62/62 [==============================] - 0s 2ms/step - loss: 2.4127 - accuracy: 0.6775\n",
      "Epoch 234/300\n",
      "62/62 [==============================] - 0s 2ms/step - loss: 2.6158 - accuracy: 0.6417\n",
      "Epoch 235/300\n",
      "62/62 [==============================] - 0s 2ms/step - loss: 3.0129 - accuracy: 0.6580\n",
      "Epoch 236/300\n",
      "62/62 [==============================] - 0s 2ms/step - loss: 1.4959 - accuracy: 0.7085\n",
      "Epoch 237/300\n",
      "62/62 [==============================] - 0s 2ms/step - loss: 3.9464 - accuracy: 0.6124\n",
      "Epoch 238/300\n",
      "62/62 [==============================] - 0s 2ms/step - loss: 3.0876 - accuracy: 0.6319\n",
      "Epoch 239/300\n",
      "62/62 [==============================] - 0s 2ms/step - loss: 1.3275 - accuracy: 0.6629\n",
      "Epoch 240/300\n",
      "62/62 [==============================] - 0s 2ms/step - loss: 2.3924 - accuracy: 0.6368\n",
      "Epoch 241/300\n",
      "62/62 [==============================] - 0s 2ms/step - loss: 2.8831 - accuracy: 0.6352\n",
      "Epoch 242/300\n",
      "62/62 [==============================] - 0s 2ms/step - loss: 0.8461 - accuracy: 0.7264\n",
      "Epoch 243/300\n",
      "62/62 [==============================] - 0s 2ms/step - loss: 1.4271 - accuracy: 0.6792\n",
      "Epoch 244/300\n",
      "62/62 [==============================] - 0s 3ms/step - loss: 1.8621 - accuracy: 0.6547\n",
      "Epoch 245/300\n",
      "62/62 [==============================] - 0s 3ms/step - loss: 2.1645 - accuracy: 0.6743\n",
      "Epoch 246/300\n",
      "62/62 [==============================] - 0s 2ms/step - loss: 2.0331 - accuracy: 0.6515\n",
      "Epoch 247/300\n",
      "62/62 [==============================] - 0s 2ms/step - loss: 1.5620 - accuracy: 0.6971\n",
      "Epoch 248/300\n",
      "62/62 [==============================] - 0s 2ms/step - loss: 2.6612 - accuracy: 0.6661\n",
      "Epoch 249/300\n",
      "62/62 [==============================] - 0s 2ms/step - loss: 1.9739 - accuracy: 0.6775\n",
      "Epoch 250/300\n",
      "62/62 [==============================] - 0s 2ms/step - loss: 1.6357 - accuracy: 0.7003\n",
      "Epoch 251/300\n",
      "62/62 [==============================] - 0s 3ms/step - loss: 2.7678 - accuracy: 0.6808\n",
      "Epoch 252/300\n",
      "62/62 [==============================] - 0s 3ms/step - loss: 1.9754 - accuracy: 0.6596\n",
      "Epoch 253/300\n",
      "62/62 [==============================] - 0s 2ms/step - loss: 1.6975 - accuracy: 0.6498\n",
      "Epoch 254/300\n",
      "62/62 [==============================] - 0s 2ms/step - loss: 2.0426 - accuracy: 0.6417\n",
      "Epoch 255/300\n",
      "62/62 [==============================] - 0s 3ms/step - loss: 2.0986 - accuracy: 0.6547\n",
      "Epoch 256/300\n",
      "62/62 [==============================] - 0s 2ms/step - loss: 1.2357 - accuracy: 0.7182\n",
      "Epoch 257/300\n",
      "62/62 [==============================] - 0s 3ms/step - loss: 3.5176 - accuracy: 0.6026\n",
      "Epoch 258/300\n",
      "62/62 [==============================] - 0s 2ms/step - loss: 2.4799 - accuracy: 0.6515\n",
      "Epoch 259/300\n",
      "62/62 [==============================] - 0s 2ms/step - loss: 1.3248 - accuracy: 0.7068\n",
      "Epoch 260/300\n",
      "62/62 [==============================] - 0s 2ms/step - loss: 1.4353 - accuracy: 0.7117\n",
      "Epoch 261/300\n",
      "62/62 [==============================] - 0s 2ms/step - loss: 1.5813 - accuracy: 0.6808\n",
      "Epoch 262/300\n",
      "62/62 [==============================] - 0s 2ms/step - loss: 3.4948 - accuracy: 0.6384\n",
      "Epoch 263/300\n",
      "62/62 [==============================] - 0s 2ms/step - loss: 2.8550 - accuracy: 0.6303\n",
      "Epoch 264/300\n",
      "62/62 [==============================] - 0s 2ms/step - loss: 2.6295 - accuracy: 0.6140\n",
      "Epoch 265/300\n",
      "62/62 [==============================] - 0s 2ms/step - loss: 2.0775 - accuracy: 0.6498\n",
      "Epoch 266/300\n",
      "62/62 [==============================] - 0s 2ms/step - loss: 1.5501 - accuracy: 0.7052\n",
      "Epoch 267/300\n",
      "62/62 [==============================] - 0s 2ms/step - loss: 2.6160 - accuracy: 0.6498\n",
      "Epoch 268/300\n",
      "62/62 [==============================] - 0s 2ms/step - loss: 2.4697 - accuracy: 0.6726\n",
      "Epoch 269/300\n",
      "62/62 [==============================] - 0s 2ms/step - loss: 4.0882 - accuracy: 0.6091\n",
      "Epoch 270/300\n",
      "62/62 [==============================] - 0s 2ms/step - loss: 1.9604 - accuracy: 0.6417\n",
      "Epoch 271/300\n",
      "62/62 [==============================] - 0s 2ms/step - loss: 1.3609 - accuracy: 0.6743\n",
      "Epoch 272/300\n",
      "62/62 [==============================] - 0s 2ms/step - loss: 1.7177 - accuracy: 0.6857\n",
      "Epoch 273/300\n",
      "62/62 [==============================] - 0s 2ms/step - loss: 2.8355 - accuracy: 0.6319\n",
      "Epoch 274/300\n",
      "62/62 [==============================] - 0s 2ms/step - loss: 1.7120 - accuracy: 0.6808\n",
      "Epoch 275/300\n",
      "62/62 [==============================] - 0s 3ms/step - loss: 1.4349 - accuracy: 0.6759\n",
      "Epoch 276/300\n",
      "62/62 [==============================] - 0s 2ms/step - loss: 2.5233 - accuracy: 0.6531\n",
      "Epoch 277/300\n",
      "62/62 [==============================] - 0s 2ms/step - loss: 1.8176 - accuracy: 0.6743\n",
      "Epoch 278/300\n",
      "62/62 [==============================] - 0s 2ms/step - loss: 2.5579 - accuracy: 0.6450\n",
      "Epoch 279/300\n",
      "62/62 [==============================] - 0s 2ms/step - loss: 0.8681 - accuracy: 0.7508\n",
      "Epoch 280/300\n",
      "62/62 [==============================] - 0s 2ms/step - loss: 0.9296 - accuracy: 0.7150\n",
      "Epoch 281/300\n",
      "62/62 [==============================] - 0s 2ms/step - loss: 2.4923 - accuracy: 0.6824\n",
      "Epoch 282/300\n",
      "62/62 [==============================] - 0s 2ms/step - loss: 1.5962 - accuracy: 0.6629\n",
      "Epoch 283/300\n",
      "62/62 [==============================] - 0s 2ms/step - loss: 1.5645 - accuracy: 0.6466\n",
      "Epoch 284/300\n",
      "62/62 [==============================] - 0s 3ms/step - loss: 2.6473 - accuracy: 0.6498\n",
      "Epoch 285/300\n",
      "62/62 [==============================] - 0s 2ms/step - loss: 1.8089 - accuracy: 0.6726\n",
      "Epoch 286/300\n",
      "62/62 [==============================] - 0s 2ms/step - loss: 2.9746 - accuracy: 0.6107\n",
      "Epoch 287/300\n",
      "62/62 [==============================] - 0s 2ms/step - loss: 2.0887 - accuracy: 0.6710\n",
      "Epoch 288/300\n",
      "62/62 [==============================] - 0s 2ms/step - loss: 2.4863 - accuracy: 0.6450\n",
      "Epoch 289/300\n",
      "62/62 [==============================] - 0s 2ms/step - loss: 1.5992 - accuracy: 0.6938\n",
      "Epoch 290/300\n",
      "62/62 [==============================] - 0s 2ms/step - loss: 2.5115 - accuracy: 0.6466\n",
      "Epoch 291/300\n",
      "62/62 [==============================] - 0s 3ms/step - loss: 2.3625 - accuracy: 0.6629\n",
      "Epoch 292/300\n",
      "62/62 [==============================] - 0s 2ms/step - loss: 2.1426 - accuracy: 0.6759\n",
      "Epoch 293/300\n",
      "62/62 [==============================] - 0s 2ms/step - loss: 2.2127 - accuracy: 0.6515\n",
      "Epoch 294/300\n",
      "62/62 [==============================] - 0s 2ms/step - loss: 2.9180 - accuracy: 0.6189\n",
      "Epoch 295/300\n",
      "62/62 [==============================] - 0s 2ms/step - loss: 2.3094 - accuracy: 0.6401\n",
      "Epoch 296/300\n",
      "62/62 [==============================] - 0s 2ms/step - loss: 1.0268 - accuracy: 0.7117\n",
      "Epoch 297/300\n",
      "62/62 [==============================] - 0s 2ms/step - loss: 1.0929 - accuracy: 0.7134\n",
      "Epoch 298/300\n",
      "62/62 [==============================] - 0s 2ms/step - loss: 1.7468 - accuracy: 0.6726\n",
      "Epoch 299/300\n",
      "62/62 [==============================] - 0s 2ms/step - loss: 2.1052 - accuracy: 0.6384\n",
      "Epoch 300/300\n",
      "62/62 [==============================] - 0s 2ms/step - loss: 2.3546 - accuracy: 0.6433\n"
     ]
    },
    {
     "data": {
      "text/plain": [
       "<keras.callbacks.History at 0x24915344b20>"
      ]
     },
     "execution_count": 29,
     "metadata": {},
     "output_type": "execute_result"
    }
   ],
   "source": [
    "model.fit(x, y, epochs=300, batch_size=10)"
   ]
  },
  {
   "cell_type": "code",
   "execution_count": 30,
   "id": "2382a8f1",
   "metadata": {},
   "outputs": [
    {
     "name": "stdout",
     "output_type": "stream",
     "text": [
      "20/20 [==============================] - 0s 2ms/step - loss: 1.0177 - accuracy: 0.6515\n",
      "Accuracy: 65.15\n"
     ]
    }
   ],
   "source": [
    "_, accuracy = model.evaluate(x, y)\n",
    "print('Accuracy: %.2f' % (accuracy*100))"
   ]
  },
  {
   "cell_type": "code",
   "execution_count": 31,
   "id": "6457609d",
   "metadata": {},
   "outputs": [
    {
     "name": "stdout",
     "output_type": "stream",
     "text": [
      "20/20 [==============================] - 0s 2ms/step\n"
     ]
    }
   ],
   "source": [
    "predictions = (model.predict(x) > 0.5).astype(int)"
   ]
  },
  {
   "cell_type": "code",
   "execution_count": 32,
   "id": "fddb5f12",
   "metadata": {},
   "outputs": [
    {
     "name": "stdout",
     "output_type": "stream",
     "text": [
      "[1.0, 1.0, 1.0, 1.0, 5849.0, 0.0, 146.41216216216216, 360.0, 1.0, 1.0] => 0 (expected 1)\n",
      "[1.0, 2.0, 1.0, 1.0, 4583.0, 1508.0, 128.0, 360.0, 1.0, 2.0] => 0 (expected 0)\n",
      "[1.0, 2.0, 1.0, 2.0, 3000.0, 0.0, 66.0, 360.0, 1.0, 1.0] => 1 (expected 1)\n",
      "[1.0, 2.0, 2.0, 1.0, 2583.0, 2358.0, 120.0, 360.0, 1.0, 1.0] => 1 (expected 1)\n",
      "[1.0, 1.0, 1.0, 1.0, 6000.0, 0.0, 141.0, 360.0, 1.0, 1.0] => 0 (expected 1)\n",
      "[1.0, 2.0, 1.0, 2.0, 5417.0, 4196.0, 267.0, 360.0, 1.0, 1.0] => 0 (expected 1)\n",
      "[1.0, 2.0, 2.0, 1.0, 2333.0, 1516.0, 95.0, 360.0, 1.0, 1.0] => 1 (expected 1)\n",
      "[1.0, 2.0, 1.0, 1.0, 3036.0, 2504.0, 158.0, 360.0, 0.0, 0.0] => 0 (expected 0)\n",
      "[1.0, 2.0, 1.0, 1.0, 4006.0, 1526.0, 168.0, 360.0, 1.0, 1.0] => 0 (expected 1)\n",
      "[1.0, 2.0, 1.0, 1.0, 12841.0, 10968.0, 349.0, 360.0, 1.0, 0.0] => 0 (expected 0)\n"
     ]
    }
   ],
   "source": [
    "for i in range(10):\n",
    " print('%s => %d (expected %d)' % (x[i].tolist(), predictions[i], y[i]))"
   ]
  },
  {
   "cell_type": "code",
   "execution_count": 33,
   "id": "c99dadf7",
   "metadata": {},
   "outputs": [
    {
     "name": "stdout",
     "output_type": "stream",
     "text": [
      "1/1 [==============================] - 0s 133ms/step\n",
      "[[False]]\n"
     ]
    }
   ],
   "source": [
    "Xnew = [[1,2,1,1,7583,0,187,360,1,1]]\n",
    "\n",
    "ynew = model.predict(Xnew)>0.5\n",
    "\n",
    "print(ynew)"
   ]
  },
  {
   "cell_type": "code",
   "execution_count": null,
   "id": "7c3dfbc1",
   "metadata": {},
   "outputs": [],
   "source": []
  }
 ],
 "metadata": {
  "kernelspec": {
   "display_name": "MyEnv",
   "language": "python",
   "name": "myenv"
  },
  "language_info": {
   "codemirror_mode": {
    "name": "ipython",
    "version": 3
   },
   "file_extension": ".py",
   "mimetype": "text/x-python",
   "name": "python",
   "nbconvert_exporter": "python",
   "pygments_lexer": "ipython3",
   "version": "3.9.13"
  }
 },
 "nbformat": 4,
 "nbformat_minor": 5
}
