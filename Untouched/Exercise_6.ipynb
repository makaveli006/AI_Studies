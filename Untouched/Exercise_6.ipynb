{
 "cells": [
  {
   "cell_type": "code",
   "execution_count": 1,
   "id": "4c708e94",
   "metadata": {},
   "outputs": [],
   "source": [
    "\n",
    "import numpy as np                \n",
    "import pandas as pd\n",
    "import matplotlib.pyplot as plt   \n",
    "from sklearn import metrics\n",
    "from sklearn.metrics import accuracy_score, classification_report, silhouette_score\n"
   ]
  },
  {
   "cell_type": "code",
   "execution_count": 2,
   "id": "17202ec9",
   "metadata": {},
   "outputs": [],
   "source": [
    "dataset=pd.read_csv('Book1.csv')"
   ]
  },
  {
   "cell_type": "code",
   "execution_count": 3,
   "id": "91951abd",
   "metadata": {},
   "outputs": [
    {
     "data": {
      "text/html": [
       "<div>\n",
       "<style scoped>\n",
       "    .dataframe tbody tr th:only-of-type {\n",
       "        vertical-align: middle;\n",
       "    }\n",
       "\n",
       "    .dataframe tbody tr th {\n",
       "        vertical-align: top;\n",
       "    }\n",
       "\n",
       "    .dataframe thead th {\n",
       "        text-align: right;\n",
       "    }\n",
       "</style>\n",
       "<table border=\"1\" class=\"dataframe\">\n",
       "  <thead>\n",
       "    <tr style=\"text-align: right;\">\n",
       "      <th></th>\n",
       "      <th>Team</th>\n",
       "      <th>Tournament</th>\n",
       "      <th>Goals</th>\n",
       "      <th>Shots pg</th>\n",
       "      <th>yellow_cards</th>\n",
       "      <th>red_cards</th>\n",
       "      <th>Possession%</th>\n",
       "      <th>Pass%</th>\n",
       "      <th>AerialsWon</th>\n",
       "      <th>Rating1</th>\n",
       "      <th>Rating</th>\n",
       "    </tr>\n",
       "  </thead>\n",
       "  <tbody>\n",
       "    <tr>\n",
       "      <th>0</th>\n",
       "      <td>Manchester City</td>\n",
       "      <td>Premier League</td>\n",
       "      <td>83</td>\n",
       "      <td>15.8</td>\n",
       "      <td>46</td>\n",
       "      <td>2</td>\n",
       "      <td>60.8</td>\n",
       "      <td>89.4</td>\n",
       "      <td>12.8</td>\n",
       "      <td>7.01</td>\n",
       "      <td>High</td>\n",
       "    </tr>\n",
       "    <tr>\n",
       "      <th>1</th>\n",
       "      <td>Bayern Munich</td>\n",
       "      <td>Bundesliga</td>\n",
       "      <td>99</td>\n",
       "      <td>17.1</td>\n",
       "      <td>44</td>\n",
       "      <td>3</td>\n",
       "      <td>58.1</td>\n",
       "      <td>85.5</td>\n",
       "      <td>12.9</td>\n",
       "      <td>6.95</td>\n",
       "      <td>High</td>\n",
       "    </tr>\n",
       "    <tr>\n",
       "      <th>2</th>\n",
       "      <td>Paris Saint-Germain</td>\n",
       "      <td>Ligue 1</td>\n",
       "      <td>86</td>\n",
       "      <td>15.0</td>\n",
       "      <td>73</td>\n",
       "      <td>7</td>\n",
       "      <td>60.1</td>\n",
       "      <td>89.5</td>\n",
       "      <td>9.5</td>\n",
       "      <td>6.88</td>\n",
       "      <td>High</td>\n",
       "    </tr>\n",
       "    <tr>\n",
       "      <th>3</th>\n",
       "      <td>Barcelona</td>\n",
       "      <td>LaLiga</td>\n",
       "      <td>85</td>\n",
       "      <td>15.3</td>\n",
       "      <td>68</td>\n",
       "      <td>2</td>\n",
       "      <td>62.4</td>\n",
       "      <td>89.7</td>\n",
       "      <td>10.6</td>\n",
       "      <td>6.87</td>\n",
       "      <td>High</td>\n",
       "    </tr>\n",
       "    <tr>\n",
       "      <th>4</th>\n",
       "      <td>Real Madrid</td>\n",
       "      <td>LaLiga</td>\n",
       "      <td>67</td>\n",
       "      <td>14.4</td>\n",
       "      <td>57</td>\n",
       "      <td>2</td>\n",
       "      <td>57.7</td>\n",
       "      <td>87.7</td>\n",
       "      <td>11.8</td>\n",
       "      <td>6.86</td>\n",
       "      <td>High</td>\n",
       "    </tr>\n",
       "  </tbody>\n",
       "</table>\n",
       "</div>"
      ],
      "text/plain": [
       "                  Team      Tournament  Goals  Shots pg  yellow_cards  \\\n",
       "0      Manchester City  Premier League     83      15.8            46   \n",
       "1        Bayern Munich      Bundesliga     99      17.1            44   \n",
       "2  Paris Saint-Germain         Ligue 1     86      15.0            73   \n",
       "3            Barcelona          LaLiga     85      15.3            68   \n",
       "4          Real Madrid          LaLiga     67      14.4            57   \n",
       "\n",
       "   red_cards  Possession%  Pass%  AerialsWon  Rating1 Rating  \n",
       "0          2         60.8   89.4        12.8     7.01   High  \n",
       "1          3         58.1   85.5        12.9     6.95   High  \n",
       "2          7         60.1   89.5         9.5     6.88   High  \n",
       "3          2         62.4   89.7        10.6     6.87   High  \n",
       "4          2         57.7   87.7        11.8     6.86   High  "
      ]
     },
     "execution_count": 3,
     "metadata": {},
     "output_type": "execute_result"
    }
   ],
   "source": [
    "dataset.head()"
   ]
  },
  {
   "cell_type": "code",
   "execution_count": 4,
   "id": "f38cc67a",
   "metadata": {},
   "outputs": [
    {
     "data": {
      "text/plain": [
       "(98, 11)"
      ]
     },
     "execution_count": 4,
     "metadata": {},
     "output_type": "execute_result"
    }
   ],
   "source": [
    "dataset.shape"
   ]
  },
  {
   "cell_type": "code",
   "execution_count": 5,
   "id": "407c253f",
   "metadata": {},
   "outputs": [
    {
     "name": "stdout",
     "output_type": "stream",
     "text": [
      "<class 'pandas.core.frame.DataFrame'>\n",
      "RangeIndex: 98 entries, 0 to 97\n",
      "Data columns (total 11 columns):\n",
      " #   Column        Non-Null Count  Dtype  \n",
      "---  ------        --------------  -----  \n",
      " 0   Team          98 non-null     object \n",
      " 1   Tournament    98 non-null     object \n",
      " 2   Goals         98 non-null     int64  \n",
      " 3   Shots pg      98 non-null     float64\n",
      " 4   yellow_cards  98 non-null     int64  \n",
      " 5   red_cards     98 non-null     int64  \n",
      " 6   Possession%   98 non-null     float64\n",
      " 7   Pass%         98 non-null     float64\n",
      " 8   AerialsWon    98 non-null     float64\n",
      " 9   Rating1       98 non-null     float64\n",
      " 10  Rating        98 non-null     object \n",
      "dtypes: float64(5), int64(3), object(3)\n",
      "memory usage: 8.5+ KB\n"
     ]
    }
   ],
   "source": [
    "dataset.info()"
   ]
  },
  {
   "cell_type": "code",
   "execution_count": 6,
   "id": "d227b969",
   "metadata": {},
   "outputs": [
    {
     "data": {
      "text/html": [
       "<div>\n",
       "<style scoped>\n",
       "    .dataframe tbody tr th:only-of-type {\n",
       "        vertical-align: middle;\n",
       "    }\n",
       "\n",
       "    .dataframe tbody tr th {\n",
       "        vertical-align: top;\n",
       "    }\n",
       "\n",
       "    .dataframe thead th {\n",
       "        text-align: right;\n",
       "    }\n",
       "</style>\n",
       "<table border=\"1\" class=\"dataframe\">\n",
       "  <thead>\n",
       "    <tr style=\"text-align: right;\">\n",
       "      <th></th>\n",
       "      <th>Goals</th>\n",
       "      <th>Shots pg</th>\n",
       "      <th>yellow_cards</th>\n",
       "      <th>red_cards</th>\n",
       "      <th>Possession%</th>\n",
       "      <th>Pass%</th>\n",
       "      <th>AerialsWon</th>\n",
       "      <th>Rating1</th>\n",
       "    </tr>\n",
       "  </thead>\n",
       "  <tbody>\n",
       "    <tr>\n",
       "      <th>count</th>\n",
       "      <td>98.000000</td>\n",
       "      <td>98.000000</td>\n",
       "      <td>98.000000</td>\n",
       "      <td>98.000000</td>\n",
       "      <td>98.000000</td>\n",
       "      <td>98.000000</td>\n",
       "      <td>98.000000</td>\n",
       "      <td>98.000000</td>\n",
       "    </tr>\n",
       "    <tr>\n",
       "      <th>mean</th>\n",
       "      <td>52.183673</td>\n",
       "      <td>11.851020</td>\n",
       "      <td>69.704082</td>\n",
       "      <td>3.336735</td>\n",
       "      <td>49.995918</td>\n",
       "      <td>80.441837</td>\n",
       "      <td>16.006122</td>\n",
       "      <td>6.646122</td>\n",
       "    </tr>\n",
       "    <tr>\n",
       "      <th>std</th>\n",
       "      <td>16.445691</td>\n",
       "      <td>2.149718</td>\n",
       "      <td>15.137316</td>\n",
       "      <td>2.148814</td>\n",
       "      <td>4.890068</td>\n",
       "      <td>4.690172</td>\n",
       "      <td>3.078955</td>\n",
       "      <td>0.132148</td>\n",
       "    </tr>\n",
       "    <tr>\n",
       "      <th>min</th>\n",
       "      <td>20.000000</td>\n",
       "      <td>7.100000</td>\n",
       "      <td>40.000000</td>\n",
       "      <td>0.000000</td>\n",
       "      <td>38.500000</td>\n",
       "      <td>66.500000</td>\n",
       "      <td>9.500000</td>\n",
       "      <td>6.410000</td>\n",
       "    </tr>\n",
       "    <tr>\n",
       "      <th>25%</th>\n",
       "      <td>40.250000</td>\n",
       "      <td>10.325000</td>\n",
       "      <td>60.000000</td>\n",
       "      <td>2.000000</td>\n",
       "      <td>46.225000</td>\n",
       "      <td>78.025000</td>\n",
       "      <td>14.025000</td>\n",
       "      <td>6.540000</td>\n",
       "    </tr>\n",
       "    <tr>\n",
       "      <th>50%</th>\n",
       "      <td>50.000000</td>\n",
       "      <td>11.450000</td>\n",
       "      <td>67.500000</td>\n",
       "      <td>3.000000</td>\n",
       "      <td>49.750000</td>\n",
       "      <td>80.800000</td>\n",
       "      <td>16.100000</td>\n",
       "      <td>6.630000</td>\n",
       "    </tr>\n",
       "    <tr>\n",
       "      <th>75%</th>\n",
       "      <td>61.750000</td>\n",
       "      <td>13.350000</td>\n",
       "      <td>80.000000</td>\n",
       "      <td>4.750000</td>\n",
       "      <td>52.850000</td>\n",
       "      <td>83.450000</td>\n",
       "      <td>17.850000</td>\n",
       "      <td>6.730000</td>\n",
       "    </tr>\n",
       "    <tr>\n",
       "      <th>max</th>\n",
       "      <td>99.000000</td>\n",
       "      <td>17.100000</td>\n",
       "      <td>117.000000</td>\n",
       "      <td>10.000000</td>\n",
       "      <td>62.400000</td>\n",
       "      <td>89.700000</td>\n",
       "      <td>26.800000</td>\n",
       "      <td>7.010000</td>\n",
       "    </tr>\n",
       "  </tbody>\n",
       "</table>\n",
       "</div>"
      ],
      "text/plain": [
       "           Goals   Shots pg  yellow_cards  red_cards  Possession%      Pass%  \\\n",
       "count  98.000000  98.000000     98.000000  98.000000    98.000000  98.000000   \n",
       "mean   52.183673  11.851020     69.704082   3.336735    49.995918  80.441837   \n",
       "std    16.445691   2.149718     15.137316   2.148814     4.890068   4.690172   \n",
       "min    20.000000   7.100000     40.000000   0.000000    38.500000  66.500000   \n",
       "25%    40.250000  10.325000     60.000000   2.000000    46.225000  78.025000   \n",
       "50%    50.000000  11.450000     67.500000   3.000000    49.750000  80.800000   \n",
       "75%    61.750000  13.350000     80.000000   4.750000    52.850000  83.450000   \n",
       "max    99.000000  17.100000    117.000000  10.000000    62.400000  89.700000   \n",
       "\n",
       "       AerialsWon    Rating1  \n",
       "count   98.000000  98.000000  \n",
       "mean    16.006122   6.646122  \n",
       "std      3.078955   0.132148  \n",
       "min      9.500000   6.410000  \n",
       "25%     14.025000   6.540000  \n",
       "50%     16.100000   6.630000  \n",
       "75%     17.850000   6.730000  \n",
       "max     26.800000   7.010000  "
      ]
     },
     "execution_count": 6,
     "metadata": {},
     "output_type": "execute_result"
    }
   ],
   "source": [
    "dataset.describe()"
   ]
  },
  {
   "cell_type": "code",
   "execution_count": 7,
   "id": "8c96cc2d",
   "metadata": {},
   "outputs": [],
   "source": [
    " import seaborn as sns"
   ]
  },
  {
   "cell_type": "code",
   "execution_count": 8,
   "id": "31900965",
   "metadata": {},
   "outputs": [
    {
     "data": {
      "text/plain": [
       "<AxesSubplot:xlabel='Rating', ylabel='count'>"
      ]
     },
     "execution_count": 8,
     "metadata": {},
     "output_type": "execute_result"
    },
    {
     "data": {
      "image/png": "[encoded data removed]",
      "text/plain": [
       "<Figure size 640x480 with 1 Axes>"
      ]
     },
     "metadata": {},
     "output_type": "display_data"
    }
   ],
   "source": [
    "sns.countplot(x=\"Rating\",hue=\"Rating\",data=dataset)"
   ]
  },
  {
   "cell_type": "code",
   "execution_count": 9,
   "id": "7a0ad680",
   "metadata": {},
   "outputs": [
    {
     "data": {
      "image/png": "[encoded data removed]",
      "text/plain": [
       "<Figure size 640x480 with 1 Axes>"
      ]
     },
     "metadata": {},
     "output_type": "display_data"
    }
   ],
   "source": [
    "sns.scatterplot(data=dataset,x=dataset[\"Rating\"], y=dataset[\"Possession%\"], hue=dataset[\"Possession%\"])\n",
    "plt.show()"
   ]
  },
  {
   "cell_type": "code",
   "execution_count": 10,
   "id": "d19afffa",
   "metadata": {},
   "outputs": [
    {
     "data": {
      "text/html": [
       "<div>\n",
       "<style scoped>\n",
       "    .dataframe tbody tr th:only-of-type {\n",
       "        vertical-align: middle;\n",
       "    }\n",
       "\n",
       "    .dataframe tbody tr th {\n",
       "        vertical-align: top;\n",
       "    }\n",
       "\n",
       "    .dataframe thead th {\n",
       "        text-align: right;\n",
       "    }\n",
       "</style>\n",
       "<table border=\"1\" class=\"dataframe\">\n",
       "  <thead>\n",
       "    <tr style=\"text-align: right;\">\n",
       "      <th></th>\n",
       "      <th>Goals</th>\n",
       "      <th>Shots pg</th>\n",
       "      <th>yellow_cards</th>\n",
       "      <th>red_cards</th>\n",
       "      <th>Possession%</th>\n",
       "      <th>Pass%</th>\n",
       "      <th>AerialsWon</th>\n",
       "      <th>Rating1</th>\n",
       "    </tr>\n",
       "  </thead>\n",
       "  <tbody>\n",
       "    <tr>\n",
       "      <th>Goals</th>\n",
       "      <td>1.000000</td>\n",
       "      <td>0.829698</td>\n",
       "      <td>-0.189157</td>\n",
       "      <td>-0.001185</td>\n",
       "      <td>0.717834</td>\n",
       "      <td>0.694214</td>\n",
       "      <td>-0.495579</td>\n",
       "      <td>0.852152</td>\n",
       "    </tr>\n",
       "    <tr>\n",
       "      <th>Shots pg</th>\n",
       "      <td>0.829698</td>\n",
       "      <td>1.000000</td>\n",
       "      <td>-0.369343</td>\n",
       "      <td>-0.105080</td>\n",
       "      <td>0.759153</td>\n",
       "      <td>0.684035</td>\n",
       "      <td>-0.382147</td>\n",
       "      <td>0.851265</td>\n",
       "    </tr>\n",
       "    <tr>\n",
       "      <th>yellow_cards</th>\n",
       "      <td>-0.189157</td>\n",
       "      <td>-0.369343</td>\n",
       "      <td>1.000000</td>\n",
       "      <td>0.368847</td>\n",
       "      <td>-0.164302</td>\n",
       "      <td>-0.184238</td>\n",
       "      <td>0.060116</td>\n",
       "      <td>-0.417049</td>\n",
       "    </tr>\n",
       "    <tr>\n",
       "      <th>red_cards</th>\n",
       "      <td>-0.001185</td>\n",
       "      <td>-0.105080</td>\n",
       "      <td>0.368847</td>\n",
       "      <td>1.000000</td>\n",
       "      <td>-0.083360</td>\n",
       "      <td>-0.043761</td>\n",
       "      <td>-0.031791</td>\n",
       "      <td>-0.162358</td>\n",
       "    </tr>\n",
       "    <tr>\n",
       "      <th>Possession%</th>\n",
       "      <td>0.717834</td>\n",
       "      <td>0.759153</td>\n",
       "      <td>-0.164302</td>\n",
       "      <td>-0.083360</td>\n",
       "      <td>1.000000</td>\n",
       "      <td>0.851458</td>\n",
       "      <td>-0.543970</td>\n",
       "      <td>0.734978</td>\n",
       "    </tr>\n",
       "    <tr>\n",
       "      <th>Pass%</th>\n",
       "      <td>0.694214</td>\n",
       "      <td>0.684035</td>\n",
       "      <td>-0.184238</td>\n",
       "      <td>-0.043761</td>\n",
       "      <td>0.851458</td>\n",
       "      <td>1.000000</td>\n",
       "      <td>-0.764788</td>\n",
       "      <td>0.668573</td>\n",
       "    </tr>\n",
       "    <tr>\n",
       "      <th>AerialsWon</th>\n",
       "      <td>-0.495579</td>\n",
       "      <td>-0.382147</td>\n",
       "      <td>0.060116</td>\n",
       "      <td>-0.031791</td>\n",
       "      <td>-0.543970</td>\n",
       "      <td>-0.764788</td>\n",
       "      <td>1.000000</td>\n",
       "      <td>-0.327225</td>\n",
       "    </tr>\n",
       "    <tr>\n",
       "      <th>Rating1</th>\n",
       "      <td>0.852152</td>\n",
       "      <td>0.851265</td>\n",
       "      <td>-0.417049</td>\n",
       "      <td>-0.162358</td>\n",
       "      <td>0.734978</td>\n",
       "      <td>0.668573</td>\n",
       "      <td>-0.327225</td>\n",
       "      <td>1.000000</td>\n",
       "    </tr>\n",
       "  </tbody>\n",
       "</table>\n",
       "</div>"
      ],
      "text/plain": [
       "                 Goals  Shots pg  yellow_cards  red_cards  Possession%  \\\n",
       "Goals         1.000000  0.829698     -0.189157  -0.001185     0.717834   \n",
       "Shots pg      0.829698  1.000000     -0.369343  -0.105080     0.759153   \n",
       "yellow_cards -0.189157 -0.369343      1.000000   0.368847    -0.164302   \n",
       "red_cards    -0.001185 -0.105080      0.368847   1.000000    -0.083360   \n",
       "Possession%   0.717834  0.759153     -0.164302  -0.083360     1.000000   \n",
       "Pass%         0.694214  0.684035     -0.184238  -0.043761     0.851458   \n",
       "AerialsWon   -0.495579 -0.382147      0.060116  -0.031791    -0.543970   \n",
       "Rating1       0.852152  0.851265     -0.417049  -0.162358     0.734978   \n",
       "\n",
       "                 Pass%  AerialsWon   Rating1  \n",
       "Goals         0.694214   -0.495579  0.852152  \n",
       "Shots pg      0.684035   -0.382147  0.851265  \n",
       "yellow_cards -0.184238    0.060116 -0.417049  \n",
       "red_cards    -0.043761   -0.031791 -0.162358  \n",
       "Possession%   0.851458   -0.543970  0.734978  \n",
       "Pass%         1.000000   -0.764788  0.668573  \n",
       "AerialsWon   -0.764788    1.000000 -0.327225  \n",
       "Rating1       0.668573   -0.327225  1.000000  "
      ]
     },
     "execution_count": 10,
     "metadata": {},
     "output_type": "execute_result"
    }
   ],
   "source": [
    "dataset.corr()"
   ]
  },
  {
   "cell_type": "code",
   "execution_count": 11,
   "id": "d9f028c0",
   "metadata": {},
   "outputs": [
    {
     "data": {
      "image/png": "[encoded data removed]",
      "text/plain": [
       "<Figure size 640x480 with 1 Axes>"
      ]
     },
     "metadata": {},
     "output_type": "display_data"
    }
   ],
   "source": [
    "plt.hist(dataset['Goals'], bins=10)\n",
    "\n",
    "plt.show()"
   ]
  },
  {
   "cell_type": "code",
   "execution_count": 12,
   "id": "cd99cf3b",
   "metadata": {},
   "outputs": [
    {
     "data": {
      "image/png": "[encoded data removed]",
      "text/plain": [
       "<Figure size 640x480 with 1 Axes>"
      ]
     },
     "metadata": {},
     "output_type": "display_data"
    }
   ],
   "source": [
    "plt.hist(dataset['Rating'], bins=10)\n",
    "\n",
    "plt.show()"
   ]
  },
  {
   "cell_type": "code",
   "execution_count": 13,
   "id": "810b5efc",
   "metadata": {},
   "outputs": [
    {
     "data": {
      "text/plain": [
       "array(['Premier League', 'Bundesliga', 'Ligue 1', 'LaLiga', 'Serie A'],\n",
       "      dtype=object)"
      ]
     },
     "execution_count": 13,
     "metadata": {},
     "output_type": "execute_result"
    }
   ],
   "source": [
    "dataset['Tournament'].unique()"
   ]
  },
  {
   "cell_type": "code",
   "execution_count": 14,
   "id": "cccb7e2b",
   "metadata": {},
   "outputs": [
    {
     "data": {
      "text/plain": [
       "<AxesSubplot:xlabel='Tournament', ylabel='count'>"
      ]
     },
     "execution_count": 14,
     "metadata": {},
     "output_type": "execute_result"
    },
    {
     "data": {
      "image/png": "[encoded data removed]",
      "text/plain": [
       "<Figure size 640x480 with 1 Axes>"
      ]
     },
     "metadata": {},
     "output_type": "display_data"
    }
   ],
   "source": [
    "sns.countplot(x = 'Tournament', data=dataset, order = dataset['Tournament'].value_counts().index)"
   ]
  },
  {
   "cell_type": "code",
   "execution_count": 15,
   "id": "c005d060",
   "metadata": {},
   "outputs": [],
   "source": [
    "from sklearn import preprocessing\n",
    "labelEncoder=preprocessing.LabelEncoder()\n",
    "dataset['Tournament']=labelEncoder.fit_transform(dataset['Tournament'])"
   ]
  },
  {
   "cell_type": "code",
   "execution_count": 16,
   "id": "5681c8ee",
   "metadata": {},
   "outputs": [
    {
     "data": {
      "text/html": [
       "<div>\n",
       "<style scoped>\n",
       "    .dataframe tbody tr th:only-of-type {\n",
       "        vertical-align: middle;\n",
       "    }\n",
       "\n",
       "    .dataframe tbody tr th {\n",
       "        vertical-align: top;\n",
       "    }\n",
       "\n",
       "    .dataframe thead th {\n",
       "        text-align: right;\n",
       "    }\n",
       "</style>\n",
       "<table border=\"1\" class=\"dataframe\">\n",
       "  <thead>\n",
       "    <tr style=\"text-align: right;\">\n",
       "      <th></th>\n",
       "      <th>Team</th>\n",
       "      <th>Tournament</th>\n",
       "      <th>Goals</th>\n",
       "      <th>Shots pg</th>\n",
       "      <th>yellow_cards</th>\n",
       "      <th>red_cards</th>\n",
       "      <th>Possession%</th>\n",
       "      <th>Pass%</th>\n",
       "      <th>AerialsWon</th>\n",
       "      <th>Rating1</th>\n",
       "      <th>Rating</th>\n",
       "    </tr>\n",
       "  </thead>\n",
       "  <tbody>\n",
       "    <tr>\n",
       "      <th>0</th>\n",
       "      <td>Manchester City</td>\n",
       "      <td>3</td>\n",
       "      <td>83</td>\n",
       "      <td>15.8</td>\n",
       "      <td>46</td>\n",
       "      <td>2</td>\n",
       "      <td>60.8</td>\n",
       "      <td>89.4</td>\n",
       "      <td>12.8</td>\n",
       "      <td>7.01</td>\n",
       "      <td>High</td>\n",
       "    </tr>\n",
       "    <tr>\n",
       "      <th>1</th>\n",
       "      <td>Bayern Munich</td>\n",
       "      <td>0</td>\n",
       "      <td>99</td>\n",
       "      <td>17.1</td>\n",
       "      <td>44</td>\n",
       "      <td>3</td>\n",
       "      <td>58.1</td>\n",
       "      <td>85.5</td>\n",
       "      <td>12.9</td>\n",
       "      <td>6.95</td>\n",
       "      <td>High</td>\n",
       "    </tr>\n",
       "    <tr>\n",
       "      <th>2</th>\n",
       "      <td>Paris Saint-Germain</td>\n",
       "      <td>2</td>\n",
       "      <td>86</td>\n",
       "      <td>15.0</td>\n",
       "      <td>73</td>\n",
       "      <td>7</td>\n",
       "      <td>60.1</td>\n",
       "      <td>89.5</td>\n",
       "      <td>9.5</td>\n",
       "      <td>6.88</td>\n",
       "      <td>High</td>\n",
       "    </tr>\n",
       "    <tr>\n",
       "      <th>3</th>\n",
       "      <td>Barcelona</td>\n",
       "      <td>1</td>\n",
       "      <td>85</td>\n",
       "      <td>15.3</td>\n",
       "      <td>68</td>\n",
       "      <td>2</td>\n",
       "      <td>62.4</td>\n",
       "      <td>89.7</td>\n",
       "      <td>10.6</td>\n",
       "      <td>6.87</td>\n",
       "      <td>High</td>\n",
       "    </tr>\n",
       "    <tr>\n",
       "      <th>4</th>\n",
       "      <td>Real Madrid</td>\n",
       "      <td>1</td>\n",
       "      <td>67</td>\n",
       "      <td>14.4</td>\n",
       "      <td>57</td>\n",
       "      <td>2</td>\n",
       "      <td>57.7</td>\n",
       "      <td>87.7</td>\n",
       "      <td>11.8</td>\n",
       "      <td>6.86</td>\n",
       "      <td>High</td>\n",
       "    </tr>\n",
       "    <tr>\n",
       "      <th>...</th>\n",
       "      <td>...</td>\n",
       "      <td>...</td>\n",
       "      <td>...</td>\n",
       "      <td>...</td>\n",
       "      <td>...</td>\n",
       "      <td>...</td>\n",
       "      <td>...</td>\n",
       "      <td>...</td>\n",
       "      <td>...</td>\n",
       "      <td>...</td>\n",
       "      <td>...</td>\n",
       "    </tr>\n",
       "    <tr>\n",
       "      <th>93</th>\n",
       "      <td>Sheffield United</td>\n",
       "      <td>3</td>\n",
       "      <td>20</td>\n",
       "      <td>8.5</td>\n",
       "      <td>73</td>\n",
       "      <td>3</td>\n",
       "      <td>43.0</td>\n",
       "      <td>76.9</td>\n",
       "      <td>19.1</td>\n",
       "      <td>6.46</td>\n",
       "      <td>Low</td>\n",
       "    </tr>\n",
       "    <tr>\n",
       "      <th>94</th>\n",
       "      <td>Crotone</td>\n",
       "      <td>4</td>\n",
       "      <td>45</td>\n",
       "      <td>9.5</td>\n",
       "      <td>85</td>\n",
       "      <td>4</td>\n",
       "      <td>47.2</td>\n",
       "      <td>80.4</td>\n",
       "      <td>12.7</td>\n",
       "      <td>6.43</td>\n",
       "      <td>Low</td>\n",
       "    </tr>\n",
       "    <tr>\n",
       "      <th>95</th>\n",
       "      <td>Benevento</td>\n",
       "      <td>4</td>\n",
       "      <td>40</td>\n",
       "      <td>11.0</td>\n",
       "      <td>90</td>\n",
       "      <td>5</td>\n",
       "      <td>44.2</td>\n",
       "      <td>77.7</td>\n",
       "      <td>13.4</td>\n",
       "      <td>6.43</td>\n",
       "      <td>Low</td>\n",
       "    </tr>\n",
       "    <tr>\n",
       "      <th>96</th>\n",
       "      <td>Dijon</td>\n",
       "      <td>2</td>\n",
       "      <td>25</td>\n",
       "      <td>9.2</td>\n",
       "      <td>75</td>\n",
       "      <td>5</td>\n",
       "      <td>46.9</td>\n",
       "      <td>80.0</td>\n",
       "      <td>14.3</td>\n",
       "      <td>6.42</td>\n",
       "      <td>Low</td>\n",
       "    </tr>\n",
       "    <tr>\n",
       "      <th>97</th>\n",
       "      <td>Schalke 04</td>\n",
       "      <td>0</td>\n",
       "      <td>25</td>\n",
       "      <td>8.9</td>\n",
       "      <td>70</td>\n",
       "      <td>2</td>\n",
       "      <td>46.2</td>\n",
       "      <td>76.5</td>\n",
       "      <td>15.6</td>\n",
       "      <td>6.41</td>\n",
       "      <td>Low</td>\n",
       "    </tr>\n",
       "  </tbody>\n",
       "</table>\n",
       "<p>98 rows × 11 columns</p>\n",
       "</div>"
      ],
      "text/plain": [
       "                   Team  Tournament  Goals  Shots pg  yellow_cards  red_cards  \\\n",
       "0       Manchester City           3     83      15.8            46          2   \n",
       "1         Bayern Munich           0     99      17.1            44          3   \n",
       "2   Paris Saint-Germain           2     86      15.0            73          7   \n",
       "3             Barcelona           1     85      15.3            68          2   \n",
       "4           Real Madrid           1     67      14.4            57          2   \n",
       "..                  ...         ...    ...       ...           ...        ...   \n",
       "93     Sheffield United           3     20       8.5            73          3   \n",
       "94              Crotone           4     45       9.5            85          4   \n",
       "95            Benevento           4     40      11.0            90          5   \n",
       "96                Dijon           2     25       9.2            75          5   \n",
       "97           Schalke 04           0     25       8.9            70          2   \n",
       "\n",
       "    Possession%  Pass%  AerialsWon  Rating1 Rating  \n",
       "0          60.8   89.4        12.8     7.01   High  \n",
       "1          58.1   85.5        12.9     6.95   High  \n",
       "2          60.1   89.5         9.5     6.88   High  \n",
       "3          62.4   89.7        10.6     6.87   High  \n",
       "4          57.7   87.7        11.8     6.86   High  \n",
       "..          ...    ...         ...      ...    ...  \n",
       "93         43.0   76.9        19.1     6.46    Low  \n",
       "94         47.2   80.4        12.7     6.43    Low  \n",
       "95         44.2   77.7        13.4     6.43    Low  \n",
       "96         46.9   80.0        14.3     6.42    Low  \n",
       "97         46.2   76.5        15.6     6.41    Low  \n",
       "\n",
       "[98 rows x 11 columns]"
      ]
     },
     "execution_count": 16,
     "metadata": {},
     "output_type": "execute_result"
    }
   ],
   "source": [
    "dataset"
   ]
  },
  {
   "cell_type": "code",
   "execution_count": 17,
   "id": "b1161e29",
   "metadata": {},
   "outputs": [],
   "source": [
    "dataset=dataset.drop([\"Team\",\"yellow_cards\",\"red_cards\",\"AerialsWon\",\"Rating1\"],axis=1)"
   ]
  },
  {
   "cell_type": "code",
   "execution_count": 18,
   "id": "c92c6b03",
   "metadata": {},
   "outputs": [
    {
     "data": {
      "text/plain": [
       "Tournament     0\n",
       "Goals          0\n",
       "Shots pg       0\n",
       "Possession%    0\n",
       "Pass%          0\n",
       "Rating         0\n",
       "dtype: int64"
      ]
     },
     "execution_count": 18,
     "metadata": {},
     "output_type": "execute_result"
    }
   ],
   "source": [
    "dataset.isnull().sum()"
   ]
  },
  {
   "cell_type": "code",
   "execution_count": 19,
   "id": "3b60e48f",
   "metadata": {
    "scrolled": false
   },
   "outputs": [
    {
     "data": {
      "text/plain": [
       "<AxesSubplot:xlabel='Rating', ylabel='count'>"
      ]
     },
     "execution_count": 19,
     "metadata": {},
     "output_type": "execute_result"
    },
    {
     "data": {
      "image/png": "[encoded data removed]",
      "text/plain": [
       "<Figure size 640x480 with 1 Axes>"
      ]
     },
     "metadata": {},
     "output_type": "display_data"
    }
   ],
   "source": [
    "sns.countplot(x = 'Rating', data=dataset, order = dataset['Rating'].value_counts().index)"
   ]
  },
  {
   "cell_type": "code",
   "execution_count": 20,
   "id": "06abde3f",
   "metadata": {},
   "outputs": [
    {
     "data": {
      "text/plain": [
       "Rating\n",
       "Average    33\n",
       "High        5\n",
       "Low        60\n",
       "dtype: int64"
      ]
     },
     "execution_count": 20,
     "metadata": {},
     "output_type": "execute_result"
    }
   ],
   "source": [
    "dataset.groupby('Rating').size()"
   ]
  },
  {
   "cell_type": "code",
   "execution_count": 21,
   "id": "2c133c81",
   "metadata": {},
   "outputs": [],
   "source": [
    "from sklearn.utils import resample\n",
    "#create two different dataframe of majority and minority class\n",
    "ds_low = dataset[(dataset['Rating']==\"Low\")] #low assigned to a variable\n",
    "ds_average = dataset[(dataset['Rating']==\"Average\")] #\n",
    "ds_high = dataset[(dataset['Rating']==\"High\")]\n",
    "# upsample minority class\n",
    "ds_average_upsampled = resample(ds_average,\n",
    "                                 replace=True,    # sample with replacement\n",
    "                                 n_samples= 60, # to match majority class\n",
    "                                 random_state=42)  # reproducible results\n",
    "                                  #average upsampled and assigned to another variable\n",
    "                                  #ds avrage is upsampled, data is duplicated and sampled upto 1017(high) with a random state,\n",
    "ds_high_upsampled = resample(ds_high,\n",
    "                                 replace=True,    # sample with replacement\n",
    "                                 n_samples= 60, # to match majority class\n",
    "                                 random_state=42)  # reproducible results\n",
    "\n",
    "# Combine majority class with upsampled minority class\n",
    "dataset = pd.concat([ds_average_upsampled,ds_high_upsampled, ds_low]) # average and low upsampled, high no need to, and concatinated to another data set"
   ]
  },
  {
   "cell_type": "code",
   "execution_count": 22,
   "id": "16f76f6b",
   "metadata": {},
   "outputs": [
    {
     "data": {
      "text/plain": [
       "Rating\n",
       "Average    60\n",
       "High       60\n",
       "Low        60\n",
       "dtype: int64"
      ]
     },
     "execution_count": 22,
     "metadata": {},
     "output_type": "execute_result"
    }
   ],
   "source": [
    "dataset.groupby('Rating').size()"
   ]
  },
  {
   "cell_type": "code",
   "execution_count": 23,
   "id": "dc622185",
   "metadata": {
    "scrolled": true
   },
   "outputs": [
    {
     "data": {
      "text/plain": [
       "<AxesSubplot:xlabel='Rating', ylabel='count'>"
      ]
     },
     "execution_count": 23,
     "metadata": {},
     "output_type": "execute_result"
    },
    {
     "data": {
      "image/png": "[encoded data removed]",
      "text/plain": [
       "<Figure size 640x480 with 1 Axes>"
      ]
     },
     "metadata": {},
     "output_type": "display_data"
    }
   ],
   "source": [
    "sns.countplot(x = 'Rating', data=dataset, order = dataset['Rating'].value_counts().index)"
   ]
  },
  {
   "cell_type": "code",
   "execution_count": 24,
   "id": "ca595f05",
   "metadata": {},
   "outputs": [
    {
     "data": {
      "text/plain": [
       "array(['Average', 'High', 'Low'], dtype=object)"
      ]
     },
     "execution_count": 24,
     "metadata": {},
     "output_type": "execute_result"
    }
   ],
   "source": [
    "dataset['Rating'].unique()"
   ]
  },
  {
   "cell_type": "code",
   "execution_count": 25,
   "id": "831126cd",
   "metadata": {},
   "outputs": [],
   "source": [
    "cat = {\"Low\":1,'Average':2,'High':3}\n",
    "dataset['Rating'] = dataset['Rating'].map(cat)"
   ]
  },
  {
   "cell_type": "code",
   "execution_count": 26,
   "id": "72f8c606",
   "metadata": {},
   "outputs": [
    {
     "data": {
      "text/html": [
       "<div>\n",
       "<style scoped>\n",
       "    .dataframe tbody tr th:only-of-type {\n",
       "        vertical-align: middle;\n",
       "    }\n",
       "\n",
       "    .dataframe tbody tr th {\n",
       "        vertical-align: top;\n",
       "    }\n",
       "\n",
       "    .dataframe thead th {\n",
       "        text-align: right;\n",
       "    }\n",
       "</style>\n",
       "<table border=\"1\" class=\"dataframe\">\n",
       "  <thead>\n",
       "    <tr style=\"text-align: right;\">\n",
       "      <th></th>\n",
       "      <th>Tournament</th>\n",
       "      <th>Goals</th>\n",
       "      <th>Shots pg</th>\n",
       "      <th>Possession%</th>\n",
       "      <th>Pass%</th>\n",
       "      <th>Rating</th>\n",
       "    </tr>\n",
       "  </thead>\n",
       "  <tbody>\n",
       "    <tr>\n",
       "      <th>33</th>\n",
       "      <td>0</td>\n",
       "      <td>56</td>\n",
       "      <td>13.4</td>\n",
       "      <td>51.5</td>\n",
       "      <td>81.1</td>\n",
       "      <td>2</td>\n",
       "    </tr>\n",
       "    <tr>\n",
       "      <th>19</th>\n",
       "      <td>4</td>\n",
       "      <td>89</td>\n",
       "      <td>14.5</td>\n",
       "      <td>52.0</td>\n",
       "      <td>87.0</td>\n",
       "      <td>2</td>\n",
       "    </tr>\n",
       "    <tr>\n",
       "      <th>12</th>\n",
       "      <td>3</td>\n",
       "      <td>68</td>\n",
       "      <td>16.0</td>\n",
       "      <td>59.0</td>\n",
       "      <td>85.7</td>\n",
       "      <td>2</td>\n",
       "    </tr>\n",
       "    <tr>\n",
       "      <th>25</th>\n",
       "      <td>0</td>\n",
       "      <td>53</td>\n",
       "      <td>13.0</td>\n",
       "      <td>57.3</td>\n",
       "      <td>84.4</td>\n",
       "      <td>2</td>\n",
       "    </tr>\n",
       "    <tr>\n",
       "      <th>23</th>\n",
       "      <td>3</td>\n",
       "      <td>62</td>\n",
       "      <td>12.3</td>\n",
       "      <td>44.5</td>\n",
       "      <td>77.8</td>\n",
       "      <td>2</td>\n",
       "    </tr>\n",
       "    <tr>\n",
       "      <th>...</th>\n",
       "      <td>...</td>\n",
       "      <td>...</td>\n",
       "      <td>...</td>\n",
       "      <td>...</td>\n",
       "      <td>...</td>\n",
       "      <td>...</td>\n",
       "    </tr>\n",
       "    <tr>\n",
       "      <th>93</th>\n",
       "      <td>3</td>\n",
       "      <td>20</td>\n",
       "      <td>8.5</td>\n",
       "      <td>43.0</td>\n",
       "      <td>76.9</td>\n",
       "      <td>1</td>\n",
       "    </tr>\n",
       "    <tr>\n",
       "      <th>94</th>\n",
       "      <td>4</td>\n",
       "      <td>45</td>\n",
       "      <td>9.5</td>\n",
       "      <td>47.2</td>\n",
       "      <td>80.4</td>\n",
       "      <td>1</td>\n",
       "    </tr>\n",
       "    <tr>\n",
       "      <th>95</th>\n",
       "      <td>4</td>\n",
       "      <td>40</td>\n",
       "      <td>11.0</td>\n",
       "      <td>44.2</td>\n",
       "      <td>77.7</td>\n",
       "      <td>1</td>\n",
       "    </tr>\n",
       "    <tr>\n",
       "      <th>96</th>\n",
       "      <td>2</td>\n",
       "      <td>25</td>\n",
       "      <td>9.2</td>\n",
       "      <td>46.9</td>\n",
       "      <td>80.0</td>\n",
       "      <td>1</td>\n",
       "    </tr>\n",
       "    <tr>\n",
       "      <th>97</th>\n",
       "      <td>0</td>\n",
       "      <td>25</td>\n",
       "      <td>8.9</td>\n",
       "      <td>46.2</td>\n",
       "      <td>76.5</td>\n",
       "      <td>1</td>\n",
       "    </tr>\n",
       "  </tbody>\n",
       "</table>\n",
       "<p>180 rows × 6 columns</p>\n",
       "</div>"
      ],
      "text/plain": [
       "    Tournament  Goals  Shots pg  Possession%  Pass%  Rating\n",
       "33           0     56      13.4         51.5   81.1       2\n",
       "19           4     89      14.5         52.0   87.0       2\n",
       "12           3     68      16.0         59.0   85.7       2\n",
       "25           0     53      13.0         57.3   84.4       2\n",
       "23           3     62      12.3         44.5   77.8       2\n",
       "..         ...    ...       ...          ...    ...     ...\n",
       "93           3     20       8.5         43.0   76.9       1\n",
       "94           4     45       9.5         47.2   80.4       1\n",
       "95           4     40      11.0         44.2   77.7       1\n",
       "96           2     25       9.2         46.9   80.0       1\n",
       "97           0     25       8.9         46.2   76.5       1\n",
       "\n",
       "[180 rows x 6 columns]"
      ]
     },
     "execution_count": 26,
     "metadata": {},
     "output_type": "execute_result"
    }
   ],
   "source": [
    "dataset"
   ]
  },
  {
   "cell_type": "code",
   "execution_count": 27,
   "id": "42725cbc",
   "metadata": {},
   "outputs": [
    {
     "data": {
      "text/plain": [
       "<AxesSubplot:xlabel='Rating', ylabel='count'>"
      ]
     },
     "execution_count": 27,
     "metadata": {},
     "output_type": "execute_result"
    },
    {
     "data": {
      "image/png": "[encoded data removed]",
      "text/plain": [
       "<Figure size 640x480 with 1 Axes>"
      ]
     },
     "metadata": {},
     "output_type": "display_data"
    }
   ],
   "source": [
    "sns.countplot(x = 'Rating', data=dataset, order = dataset['Rating'].value_counts().index)"
   ]
  },
  {
   "cell_type": "code",
   "execution_count": 28,
   "id": "79df4ee8",
   "metadata": {},
   "outputs": [],
   "source": [
    "x=dataset.iloc[:,:-1].values #index 1 to end as features (Pclass to Embarked)\n",
    "y=dataset.iloc[:,-1].values #0th as expected result (Survived or not)"
   ]
  },
  {
   "cell_type": "code",
   "execution_count": 29,
   "id": "4f755b4e",
   "metadata": {},
   "outputs": [
    {
     "data": {
      "text/plain": [
       "array([[ 0. , 56. , 13.4, 51.5, 81.1],\n",
       "       [ 4. , 89. , 14.5, 52. , 87. ],\n",
       "       [ 3. , 68. , 16. , 59. , 85.7],\n",
       "       [ 0. , 53. , 13. , 57.3, 84.4],\n",
       "       [ 3. , 62. , 12.3, 44.5, 77.8],\n",
       "       [ 2. , 76. , 12.8, 54.2, 82.7],\n",
       "       [ 3. , 68. , 11.7, 51.3, 81.8],\n",
       "       [ 3. , 68. , 11.7, 51.3, 81.8],\n",
       "       [ 4. , 68. , 14.3, 51.5, 84.5],\n",
       "       [ 4. , 68. , 14.3, 51.5, 84.5],\n",
       "       [ 3. , 55. , 13.7, 49.1, 78.6],\n",
       "       [ 0. , 69. , 13.2, 52.4, 79.6],\n",
       "       [ 4. , 77. , 15.7, 55.4, 88.3],\n",
       "       [ 4. , 68. , 14.3, 51.5, 84.5],\n",
       "       [ 3. , 36. , 12.2, 49.7, 83.2],\n",
       "       [ 4. , 77. , 15.7, 55.4, 88.3],\n",
       "       [ 0. , 53. , 13. , 57.3, 84.4],\n",
       "       [ 1. , 60. , 10.7, 54.3, 84.4],\n",
       "       [ 4. , 86. , 17. , 54.1, 87. ],\n",
       "       [ 0. , 69. , 13.2, 52.4, 79.6],\n",
       "       [ 1. , 53. , 12.1, 58.7, 86.2],\n",
       "       [ 3. , 55. , 12.1, 52.7, 85. ],\n",
       "       [ 2. , 52. , 13.5, 56.8, 85.6],\n",
       "       [ 2. , 81. , 16.1, 53.6, 84.7],\n",
       "       [ 4. , 89. , 14.5, 52. , 87. ],\n",
       "       [ 3. , 55. , 13.7, 49.1, 78.6],\n",
       "       [ 3. , 58. , 14.6, 58.6, 87. ],\n",
       "       [ 0. , 53. , 13. , 57.3, 84.4],\n",
       "       [ 4. , 74. , 14.7, 51.4, 84. ],\n",
       "       [ 3. , 62. , 13.7, 55.1, 80.8],\n",
       "       [ 0. , 75. , 14.6, 57.5, 85.5],\n",
       "       [ 1. , 53. , 12.1, 58.7, 86.2],\n",
       "       [ 0. , 61. , 14.1, 51. , 78. ],\n",
       "       [ 4. , 74. , 14.7, 51.4, 84. ],\n",
       "       [ 0. , 64. , 13.4, 51.5, 82. ],\n",
       "       [ 4. , 77. , 15.7, 55.4, 88.3],\n",
       "       [ 3. , 47. , 10.5, 47.3, 81.4],\n",
       "       [ 2. , 52. , 13.5, 56.8, 85.6],\n",
       "       [ 3. , 58. , 14.6, 58.6, 87. ],\n",
       "       [ 3. , 68. , 16. , 59. , 85.7],\n",
       "       [ 0. , 61. , 14.1, 51. , 78. ],\n",
       "       [ 0. , 60. , 16. , 57.3, 83.2],\n",
       "       [ 0. , 75. , 14.6, 57.5, 85.5],\n",
       "       [ 4. , 77. , 15.7, 55.4, 88.3],\n",
       "       [ 4. , 90. , 16.3, 53.5, 83.5],\n",
       "       [ 0. , 75. , 14.6, 57.5, 85.5],\n",
       "       [ 0. , 56. , 13.4, 51.5, 81.1],\n",
       "       [ 3. , 62. , 13.7, 55.1, 80.8],\n",
       "       [ 0. , 64. , 13.4, 51.5, 82. ],\n",
       "       [ 2. , 64. , 12.8, 52.6, 83.5],\n",
       "       [ 0. , 61. , 14.1, 51. , 78. ],\n",
       "       [ 4. , 64. , 13.9, 58.2, 87.8],\n",
       "       [ 4. , 89. , 14.5, 52. , 87. ],\n",
       "       [ 3. , 68. , 16. , 59. , 85.7],\n",
       "       [ 0. , 61. , 14.1, 51. , 78. ],\n",
       "       [ 2. , 76. , 12.8, 54.2, 82.7],\n",
       "       [ 0. , 53. , 13. , 57.3, 84.4],\n",
       "       [ 2. , 81. , 16.1, 53.6, 84.7],\n",
       "       [ 3. , 62. , 13.7, 55.1, 80.8],\n",
       "       [ 4. , 68. , 14.3, 51.5, 84.5],\n",
       "       [ 1. , 85. , 15.3, 62.4, 89.7],\n",
       "       [ 1. , 67. , 14.4, 57.7, 87.7],\n",
       "       [ 2. , 86. , 15. , 60.1, 89.5],\n",
       "       [ 1. , 67. , 14.4, 57.7, 87.7],\n",
       "       [ 1. , 67. , 14.4, 57.7, 87.7],\n",
       "       [ 0. , 99. , 17.1, 58.1, 85.5],\n",
       "       [ 2. , 86. , 15. , 60.1, 89.5],\n",
       "       [ 2. , 86. , 15. , 60.1, 89.5],\n",
       "       [ 2. , 86. , 15. , 60.1, 89.5],\n",
       "       [ 1. , 67. , 14.4, 57.7, 87.7],\n",
       "       [ 1. , 85. , 15.3, 62.4, 89.7],\n",
       "       [ 2. , 86. , 15. , 60.1, 89.5],\n",
       "       [ 1. , 67. , 14.4, 57.7, 87.7],\n",
       "       [ 0. , 99. , 17.1, 58.1, 85.5],\n",
       "       [ 1. , 85. , 15.3, 62.4, 89.7],\n",
       "       [ 0. , 99. , 17.1, 58.1, 85.5],\n",
       "       [ 1. , 85. , 15.3, 62.4, 89.7],\n",
       "       [ 1. , 67. , 14.4, 57.7, 87.7],\n",
       "       [ 3. , 83. , 15.8, 60.8, 89.4],\n",
       "       [ 1. , 85. , 15.3, 62.4, 89.7],\n",
       "       [ 0. , 99. , 17.1, 58.1, 85.5],\n",
       "       [ 1. , 67. , 14.4, 57.7, 87.7],\n",
       "       [ 1. , 85. , 15.3, 62.4, 89.7],\n",
       "       [ 3. , 83. , 15.8, 60.8, 89.4],\n",
       "       [ 3. , 83. , 15.8, 60.8, 89.4],\n",
       "       [ 2. , 86. , 15. , 60.1, 89.5],\n",
       "       [ 2. , 86. , 15. , 60.1, 89.5],\n",
       "       [ 0. , 99. , 17.1, 58.1, 85.5],\n",
       "       [ 1. , 85. , 15.3, 62.4, 89.7],\n",
       "       [ 1. , 85. , 15.3, 62.4, 89.7],\n",
       "       [ 2. , 86. , 15. , 60.1, 89.5],\n",
       "       [ 1. , 85. , 15.3, 62.4, 89.7],\n",
       "       [ 1. , 85. , 15.3, 62.4, 89.7],\n",
       "       [ 3. , 83. , 15.8, 60.8, 89.4],\n",
       "       [ 2. , 86. , 15. , 60.1, 89.5],\n",
       "       [ 1. , 67. , 14.4, 57.7, 87.7],\n",
       "       [ 2. , 86. , 15. , 60.1, 89.5],\n",
       "       [ 1. , 67. , 14.4, 57.7, 87.7],\n",
       "       [ 3. , 83. , 15.8, 60.8, 89.4],\n",
       "       [ 0. , 99. , 17.1, 58.1, 85.5],\n",
       "       [ 1. , 85. , 15.3, 62.4, 89.7],\n",
       "       [ 3. , 83. , 15.8, 60.8, 89.4],\n",
       "       [ 1. , 85. , 15.3, 62.4, 89.7],\n",
       "       [ 0. , 99. , 17.1, 58.1, 85.5],\n",
       "       [ 0. , 99. , 17.1, 58.1, 85.5],\n",
       "       [ 3. , 83. , 15.8, 60.8, 89.4],\n",
       "       [ 0. , 99. , 17.1, 58.1, 85.5],\n",
       "       [ 1. , 67. , 14.4, 57.7, 87.7],\n",
       "       [ 0. , 99. , 17.1, 58.1, 85.5],\n",
       "       [ 1. , 85. , 15.3, 62.4, 89.7],\n",
       "       [ 1. , 85. , 15.3, 62.4, 89.7],\n",
       "       [ 1. , 85. , 15.3, 62.4, 89.7],\n",
       "       [ 1. , 85. , 15.3, 62.4, 89.7],\n",
       "       [ 1. , 67. , 14.4, 57.7, 87.7],\n",
       "       [ 2. , 86. , 15. , 60.1, 89.5],\n",
       "       [ 3. , 83. , 15.8, 60.8, 89.4],\n",
       "       [ 1. , 85. , 15.3, 62.4, 89.7],\n",
       "       [ 0. , 99. , 17.1, 58.1, 85.5],\n",
       "       [ 1. , 85. , 15.3, 62.4, 89.7],\n",
       "       [ 0. , 99. , 17.1, 58.1, 85.5],\n",
       "       [ 1. , 59. , 11.3, 53.7, 80.8],\n",
       "       [ 3. , 40. , 12.8, 50.7, 81.3],\n",
       "       [ 1. , 50. , 11.7, 52.9, 82. ],\n",
       "       [ 3. , 33. , 10.1, 43.5, 71.6],\n",
       "       [ 2. , 55. , 11.7, 51.1, 81.8],\n",
       "       [ 2. , 50. , 11.8, 49.4, 81.3],\n",
       "       [ 3. , 27. , 11.6, 50. , 81.2],\n",
       "       [ 2. , 54. , 10. , 52.4, 82. ],\n",
       "       [ 4. , 52. , 11.3, 46.1, 78.5],\n",
       "       [ 2. , 60. , 12.2, 46.4, 78.8],\n",
       "       [ 2. , 50. , 10.8, 53.4, 85.6],\n",
       "       [ 0. , 52. , 12.6, 50.8, 80.7],\n",
       "       [ 3. , 47. , 11.2, 51.4, 79.3],\n",
       "       [ 3. , 46. , 10.4, 41.6, 76. ],\n",
       "       [ 4. , 61. , 13.8, 52.2, 83.8],\n",
       "       [ 2. , 47. , 10.8, 45.2, 77. ],\n",
       "       [ 0. , 50. , 11.7, 45.9, 76.2],\n",
       "       [ 2. , 49. , 11.3, 46.5, 78.3],\n",
       "       [ 3. , 41. ,  9.2, 42.9, 76.1],\n",
       "       [ 0. , 52. , 11.4, 47.5, 78.1],\n",
       "       [ 1. , 50. , 10.3, 47.9, 79.4],\n",
       "       [ 1. , 55. ,  9.4, 52. , 79.9],\n",
       "       [ 2. , 42. ,  9.6, 46.3, 80.7],\n",
       "       [ 4. , 50. , 12.2, 48. , 80.5],\n",
       "       [ 4. , 43. , 10.6, 49.6, 76.3],\n",
       "       [ 2. , 42. , 11.6, 49. , 79.3],\n",
       "       [ 2. , 42. , 11.1, 50.2, 83.3],\n",
       "       [ 0. , 41. , 11.3, 49.8, 79.5],\n",
       "       [ 4. , 43. , 11.4, 45.8, 79.8],\n",
       "       [ 0. , 39. , 11.1, 42.7, 71.3],\n",
       "       [ 4. , 51. , 13.1, 50.7, 81.5],\n",
       "       [ 0. , 36. ,  9.9, 44. , 73.6],\n",
       "       [ 4. , 42. , 10.9, 47.2, 82.5],\n",
       "       [ 1. , 34. , 10.7, 48.7, 79.8],\n",
       "       [ 1. , 46. , 10.6, 49.4, 78.5],\n",
       "       [ 1. , 37. ,  9.8, 44.6, 70.2],\n",
       "       [ 2. , 50. , 11.2, 45.9, 78.8],\n",
       "       [ 4. , 47. ,  9. , 46.1, 79.7],\n",
       "       [ 0. , 26. ,  9.8, 44.1, 74.6],\n",
       "       [ 2. , 40. , 10.7, 47.1, 81.3],\n",
       "       [ 1. , 29. , 11.9, 49.2, 72.6],\n",
       "       [ 0. , 36. , 10.6, 45.2, 76.2],\n",
       "       [ 4. , 47. ,  9.8, 46.8, 81. ],\n",
       "       [ 2. , 40. , 10.3, 45.8, 77.5],\n",
       "       [ 3. , 35. ,  8.9, 41. , 72.2],\n",
       "       [ 0. , 34. , 10.6, 47.1, 77.3],\n",
       "       [ 1. , 36. ,  9.1, 44.6, 72.9],\n",
       "       [ 1. , 46. , 10.1, 51.5, 80.1],\n",
       "       [ 4. , 52. , 10.2, 51.6, 81.1],\n",
       "       [ 1. , 28. ,  9.5, 44.4, 66.5],\n",
       "       [ 4. , 39. , 10.4, 48.4, 82.5],\n",
       "       [ 1. , 34. ,  7.1, 48.1, 81.5],\n",
       "       [ 1. , 47. ,  9.4, 43.4, 70. ],\n",
       "       [ 1. , 36. ,  8. , 38.5, 68.8],\n",
       "       [ 1. , 34. ,  9.7, 46.2, 74.8],\n",
       "       [ 3. , 20. ,  8.5, 43. , 76.9],\n",
       "       [ 4. , 45. ,  9.5, 47.2, 80.4],\n",
       "       [ 4. , 40. , 11. , 44.2, 77.7],\n",
       "       [ 2. , 25. ,  9.2, 46.9, 80. ],\n",
       "       [ 0. , 25. ,  8.9, 46.2, 76.5]])"
      ]
     },
     "execution_count": 29,
     "metadata": {},
     "output_type": "execute_result"
    }
   ],
   "source": [
    "x"
   ]
  },
  {
   "cell_type": "code",
   "execution_count": 30,
   "id": "b657d29e",
   "metadata": {},
   "outputs": [
    {
     "data": {
      "text/plain": [
       "array([2, 2, 2, 2, 2, 2, 2, 2, 2, 2, 2, 2, 2, 2, 2, 2, 2, 2, 2, 2, 2, 2,\n",
       "       2, 2, 2, 2, 2, 2, 2, 2, 2, 2, 2, 2, 2, 2, 2, 2, 2, 2, 2, 2, 2, 2,\n",
       "       2, 2, 2, 2, 2, 2, 2, 2, 2, 2, 2, 2, 2, 2, 2, 2, 3, 3, 3, 3, 3, 3,\n",
       "       3, 3, 3, 3, 3, 3, 3, 3, 3, 3, 3, 3, 3, 3, 3, 3, 3, 3, 3, 3, 3, 3,\n",
       "       3, 3, 3, 3, 3, 3, 3, 3, 3, 3, 3, 3, 3, 3, 3, 3, 3, 3, 3, 3, 3, 3,\n",
       "       3, 3, 3, 3, 3, 3, 3, 3, 3, 3, 1, 1, 1, 1, 1, 1, 1, 1, 1, 1, 1, 1,\n",
       "       1, 1, 1, 1, 1, 1, 1, 1, 1, 1, 1, 1, 1, 1, 1, 1, 1, 1, 1, 1, 1, 1,\n",
       "       1, 1, 1, 1, 1, 1, 1, 1, 1, 1, 1, 1, 1, 1, 1, 1, 1, 1, 1, 1, 1, 1,\n",
       "       1, 1, 1, 1], dtype=int64)"
      ]
     },
     "execution_count": 30,
     "metadata": {},
     "output_type": "execute_result"
    }
   ],
   "source": [
    "y"
   ]
  },
  {
   "cell_type": "code",
   "execution_count": 31,
   "id": "a2fb9cdc",
   "metadata": {},
   "outputs": [],
   "source": [
    "from sklearn.model_selection import train_test_split\n",
    "x_train, x_test, y_train, y_test = train_test_split(x, y, test_size=0.3, random_state=0)"
   ]
  },
  {
   "cell_type": "code",
   "execution_count": 32,
   "id": "7353babb",
   "metadata": {},
   "outputs": [
    {
     "name": "stdout",
     "output_type": "stream",
     "text": [
      "x_train:  (126, 5)\n",
      "y_train:  (126,)\n",
      "x_test:  (54, 5)\n",
      "y_test:  (54,)\n"
     ]
    }
   ],
   "source": [
    "print(\"x_train: \",x_train.shape)\n",
    "print(\"y_train: \",y_train.shape)\n",
    "print(\"x_test: \",x_test.shape)\n",
    "print(\"y_test: \",y_test.shape)"
   ]
  },
  {
   "cell_type": "code",
   "execution_count": 56,
   "id": "0b24c563",
   "metadata": {},
   "outputs": [
    {
     "name": "stdout",
     "output_type": "stream",
     "text": [
      "Accuracy :  90.74074074074075\n"
     ]
    },
    {
     "name": "stderr",
     "output_type": "stream",
     "text": [
      "C:\\Users\\faris\\anaconda3\\lib\\site-packages\\sklearn\\linear_model\\_logistic.py:814: ConvergenceWarning: lbfgs failed to converge (status=1):\n",
      "STOP: TOTAL NO. of ITERATIONS REACHED LIMIT.\n",
      "\n",
      "Increase the number of iterations (max_iter) or scale the data as shown in:\n",
      "    https://scikit-learn.org/stable/modules/preprocessing.html\n",
      "Please also refer to the documentation for alternative solver options:\n",
      "    https://scikit-learn.org/stable/modules/linear_model.html#logistic-regression\n",
      "  n_iter_i = _check_optimize_result(\n"
     ]
    }
   ],
   "source": [
    "from sklearn.linear_model import LogisticRegression\n",
    "from sklearn.metrics import accuracy_score\n",
    "model_lr = LogisticRegression(max_iter = 600) #loading the algorith\n",
    "model_lr.fit(x_train, y_train)\n",
    "y_pred_lr = model_lr.predict(x_test)\n",
    "print(\"Accuracy : \", accuracy_score(y_test, y_pred_lr)*100)"
   ]
  },
  {
   "cell_type": "code",
   "execution_count": 57,
   "id": "c9de221d",
   "metadata": {},
   "outputs": [
    {
     "name": "stdout",
     "output_type": "stream",
     "text": [
      "Accuracy :  88.88888888888889\n"
     ]
    }
   ],
   "source": [
    "#Desicion tree classifier\n",
    "\n",
    "from sklearn.tree import DecisionTreeClassifier\n",
    "\n",
    "model_dt = DecisionTreeClassifier()\n",
    "model_dt.fit(x_train,y_train)\n",
    "y_pred_dt = model_dt.predict(x_test)\n",
    "print(\"Accuracy : \", accuracy_score(y_test, y_pred_dt)*100)"
   ]
  },
  {
   "cell_type": "code",
   "execution_count": 58,
   "id": "2b765691",
   "metadata": {},
   "outputs": [
    {
     "name": "stdout",
     "output_type": "stream",
     "text": [
      "Accuracy :  94.44444444444444\n"
     ]
    }
   ],
   "source": [
    "#neive bayes \n",
    "\n",
    "from sklearn.naive_bayes import GaussianNB\n",
    "model_nb = GaussianNB()\n",
    "model_nb.fit(x_train,y_train)\n",
    "\n",
    "y_pred_nb = model_nb.predict(x_test)\n",
    "print(\"Accuracy : \", accuracy_score(y_test, y_pred_nb)*100)"
   ]
  },
  {
   "cell_type": "code",
   "execution_count": 59,
   "id": "3369a909",
   "metadata": {},
   "outputs": [
    {
     "name": "stdout",
     "output_type": "stream",
     "text": [
      "Accuracy :  94.44444444444444\n"
     ]
    }
   ],
   "source": [
    "#support vector machine\n",
    "\n",
    "from sklearn.svm import SVC\n",
    "model_svc = SVC(gamma='auto')\n",
    "model_svc.fit(x_train,y_train)\n",
    "y_pred_svc = model_nb.predict(x_test)\n",
    "print(\"Accuracy : \", accuracy_score(y_test, y_pred_svc)*100)"
   ]
  },
  {
   "cell_type": "code",
   "execution_count": 60,
   "id": "68dbe52e",
   "metadata": {},
   "outputs": [
    {
     "name": "stdout",
     "output_type": "stream",
     "text": [
      "[1]\n"
     ]
    }
   ],
   "source": [
    "Xnew = [[3,20,8.5,43.0,76.9]]\n",
    "\n",
    "ynew = model_lr.predict(Xnew)\n",
    "\n",
    "print(ynew)"
   ]
  },
  {
   "cell_type": "code",
   "execution_count": null,
   "id": "4a8a23c1",
   "metadata": {},
   "outputs": [],
   "source": []
  }
 ],
 "metadata": {
  "kernelspec": {
   "display_name": "MyEnv",
   "language": "python",
   "name": "myenv"
  },
  "language_info": {
   "codemirror_mode": {
    "name": "ipython",
    "version": 3
   },
   "file_extension": ".py",
   "mimetype": "text/x-python",
   "name": "python",
   "nbconvert_exporter": "python",
   "pygments_lexer": "ipython3",
   "version": "3.9.13"
  }
 },
 "nbformat": 4,
 "nbformat_minor": 5
}
